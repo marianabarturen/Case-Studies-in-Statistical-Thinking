{
 "cells": [
  {
   "cell_type": "markdown",
   "metadata": {},
   "source": [
    "# Swimming races"
   ]
  },
  {
   "cell_type": "markdown",
   "metadata": {},
   "source": [
    "In this notebook we will analyze different aspects from the swimming competition 2015 FINA World Champioships, in Kazán, Rusia.\n",
    "\n",
    "Some background:\n",
    "* There are 10 lines in the pool indexed from 0 to 9.\n",
    "* Strokes: Freestyle, Breaststroke, Butterfly, Backstroke, Medley.\n",
    "* Each event is defined by a unique tuple of gender, distance and stroke.\n",
    "* Each event is swum in stages, called rounds, with the fastest swimmers from each round progressing in the competition. \n",
    "Rounds: heat, semifinal, final."
   ]
  },
  {
   "cell_type": "markdown",
   "metadata": {},
   "source": [
    "## Data Source\n",
    "The data is freely available at OMEGA from omegatiming.com"
   ]
  },
  {
   "cell_type": "code",
   "execution_count": 87,
   "metadata": {},
   "outputs": [],
   "source": [
    "import matplotlib.pyplot as plt\n",
    "import numpy as np\n",
    "import pandas as pd\n",
    "import pandasql as ps\n",
    "import dc_stat_think as dcst"
   ]
  },
  {
   "cell_type": "code",
   "execution_count": 110,
   "metadata": {},
   "outputs": [
    {
     "data": {
      "text/html": [
       "<div>\n",
       "<style scoped>\n",
       "    .dataframe tbody tr th:only-of-type {\n",
       "        vertical-align: middle;\n",
       "    }\n",
       "\n",
       "    .dataframe tbody tr th {\n",
       "        vertical-align: top;\n",
       "    }\n",
       "\n",
       "    .dataframe thead th {\n",
       "        text-align: right;\n",
       "    }\n",
       "</style>\n",
       "<table border=\"1\" class=\"dataframe\">\n",
       "  <thead>\n",
       "    <tr style=\"text-align: right;\">\n",
       "      <th></th>\n",
       "      <th>athleteid</th>\n",
       "      <th>lastname</th>\n",
       "      <th>firstname</th>\n",
       "      <th>birthdate</th>\n",
       "      <th>gender</th>\n",
       "      <th>name</th>\n",
       "      <th>code</th>\n",
       "      <th>eventid</th>\n",
       "      <th>heat</th>\n",
       "      <th>lane</th>\n",
       "      <th>points</th>\n",
       "      <th>reactiontime</th>\n",
       "      <th>swimtime</th>\n",
       "      <th>split</th>\n",
       "      <th>cumswimtime</th>\n",
       "      <th>splitdistance</th>\n",
       "      <th>daytime</th>\n",
       "      <th>round</th>\n",
       "      <th>distance</th>\n",
       "      <th>relaycount</th>\n",
       "      <th>stroke</th>\n",
       "      <th>splitswimtime</th>\n",
       "    </tr>\n",
       "  </thead>\n",
       "  <tbody>\n",
       "    <tr>\n",
       "      <th>0</th>\n",
       "      <td>100784</td>\n",
       "      <td>BORSHI</td>\n",
       "      <td>NOEL</td>\n",
       "      <td>1996-02-13</td>\n",
       "      <td>F</td>\n",
       "      <td>Albania</td>\n",
       "      <td>ALB</td>\n",
       "      <td>1</td>\n",
       "      <td>1</td>\n",
       "      <td>4</td>\n",
       "      <td>680.0</td>\n",
       "      <td>0.77</td>\n",
       "      <td>63.65</td>\n",
       "      <td>1</td>\n",
       "      <td>29.63</td>\n",
       "      <td>50</td>\n",
       "      <td>930.0</td>\n",
       "      <td>PRE</td>\n",
       "      <td>100</td>\n",
       "      <td>1</td>\n",
       "      <td>FLY</td>\n",
       "      <td>29.63</td>\n",
       "    </tr>\n",
       "    <tr>\n",
       "      <th>1</th>\n",
       "      <td>100784</td>\n",
       "      <td>BORSHI</td>\n",
       "      <td>NOEL</td>\n",
       "      <td>1996-02-13</td>\n",
       "      <td>F</td>\n",
       "      <td>Albania</td>\n",
       "      <td>ALB</td>\n",
       "      <td>1</td>\n",
       "      <td>1</td>\n",
       "      <td>4</td>\n",
       "      <td>680.0</td>\n",
       "      <td>0.77</td>\n",
       "      <td>63.65</td>\n",
       "      <td>2</td>\n",
       "      <td>63.65</td>\n",
       "      <td>100</td>\n",
       "      <td>930.0</td>\n",
       "      <td>PRE</td>\n",
       "      <td>100</td>\n",
       "      <td>1</td>\n",
       "      <td>FLY</td>\n",
       "      <td>34.02</td>\n",
       "    </tr>\n",
       "    <tr>\n",
       "      <th>2</th>\n",
       "      <td>100784</td>\n",
       "      <td>BORSHI</td>\n",
       "      <td>NOEL</td>\n",
       "      <td>1996-02-13</td>\n",
       "      <td>F</td>\n",
       "      <td>Albania</td>\n",
       "      <td>ALB</td>\n",
       "      <td>20</td>\n",
       "      <td>1</td>\n",
       "      <td>8</td>\n",
       "      <td>654.0</td>\n",
       "      <td>0.80</td>\n",
       "      <td>140.28</td>\n",
       "      <td>1</td>\n",
       "      <td>31.33</td>\n",
       "      <td>50</td>\n",
       "      <td>1014.0</td>\n",
       "      <td>PRE</td>\n",
       "      <td>200</td>\n",
       "      <td>1</td>\n",
       "      <td>FLY</td>\n",
       "      <td>31.33</td>\n",
       "    </tr>\n",
       "    <tr>\n",
       "      <th>3</th>\n",
       "      <td>100784</td>\n",
       "      <td>BORSHI</td>\n",
       "      <td>NOEL</td>\n",
       "      <td>1996-02-13</td>\n",
       "      <td>F</td>\n",
       "      <td>Albania</td>\n",
       "      <td>ALB</td>\n",
       "      <td>20</td>\n",
       "      <td>1</td>\n",
       "      <td>8</td>\n",
       "      <td>654.0</td>\n",
       "      <td>0.80</td>\n",
       "      <td>140.28</td>\n",
       "      <td>2</td>\n",
       "      <td>66.81</td>\n",
       "      <td>100</td>\n",
       "      <td>1014.0</td>\n",
       "      <td>PRE</td>\n",
       "      <td>200</td>\n",
       "      <td>1</td>\n",
       "      <td>FLY</td>\n",
       "      <td>35.48</td>\n",
       "    </tr>\n",
       "    <tr>\n",
       "      <th>4</th>\n",
       "      <td>100784</td>\n",
       "      <td>BORSHI</td>\n",
       "      <td>NOEL</td>\n",
       "      <td>1996-02-13</td>\n",
       "      <td>F</td>\n",
       "      <td>Albania</td>\n",
       "      <td>ALB</td>\n",
       "      <td>20</td>\n",
       "      <td>1</td>\n",
       "      <td>8</td>\n",
       "      <td>654.0</td>\n",
       "      <td>0.80</td>\n",
       "      <td>140.28</td>\n",
       "      <td>3</td>\n",
       "      <td>103.29</td>\n",
       "      <td>150</td>\n",
       "      <td>1014.0</td>\n",
       "      <td>PRE</td>\n",
       "      <td>200</td>\n",
       "      <td>1</td>\n",
       "      <td>FLY</td>\n",
       "      <td>36.48</td>\n",
       "    </tr>\n",
       "  </tbody>\n",
       "</table>\n",
       "</div>"
      ],
      "text/plain": [
       "   athleteid lastname firstname   birthdate gender     name code  eventid  \\\n",
       "0     100784   BORSHI      NOEL  1996-02-13      F  Albania  ALB        1   \n",
       "1     100784   BORSHI      NOEL  1996-02-13      F  Albania  ALB        1   \n",
       "2     100784   BORSHI      NOEL  1996-02-13      F  Albania  ALB       20   \n",
       "3     100784   BORSHI      NOEL  1996-02-13      F  Albania  ALB       20   \n",
       "4     100784   BORSHI      NOEL  1996-02-13      F  Albania  ALB       20   \n",
       "\n",
       "   heat  lane  points  reactiontime  swimtime  split  cumswimtime  \\\n",
       "0     1     4   680.0          0.77     63.65      1        29.63   \n",
       "1     1     4   680.0          0.77     63.65      2        63.65   \n",
       "2     1     8   654.0          0.80    140.28      1        31.33   \n",
       "3     1     8   654.0          0.80    140.28      2        66.81   \n",
       "4     1     8   654.0          0.80    140.28      3       103.29   \n",
       "\n",
       "   splitdistance  daytime round  distance  relaycount stroke  splitswimtime  \n",
       "0             50    930.0   PRE       100           1    FLY          29.63  \n",
       "1            100    930.0   PRE       100           1    FLY          34.02  \n",
       "2             50   1014.0   PRE       200           1    FLY          31.33  \n",
       "3            100   1014.0   PRE       200           1    FLY          35.48  \n",
       "4            150   1014.0   PRE       200           1    FLY          36.48  "
      ]
     },
     "execution_count": 110,
     "metadata": {},
     "output_type": "execute_result"
    }
   ],
   "source": [
    "pd.set_option('max_columns', None)\n",
    "df = pd.read_csv (r'2015_FINA.csv',skiprows=4)\n",
    "df.head(5)"
   ]
  },
  {
   "cell_type": "code",
   "execution_count": 111,
   "metadata": {},
   "outputs": [
    {
     "data": {
      "text/plain": [
       "array([ 1,  2,  3,  4,  5,  6,  7,  8,  9, 10, 11, 12, 13, 14, 15, 16, 17,\n",
       "       18, 19, 20, 21, 22, 23, 24, 25, 26, 27, 28, 29, 30])"
      ]
     },
     "execution_count": 111,
     "metadata": {},
     "output_type": "execute_result"
    }
   ],
   "source": [
    "df['split'].unique()"
   ]
  },
  {
   "cell_type": "code",
   "execution_count": 112,
   "metadata": {},
   "outputs": [
    {
     "data": {
      "text/plain": [
       "array(['PRE', 'SEM', 'FIN', 'SOS', 'SOP'], dtype=object)"
      ]
     },
     "execution_count": 112,
     "metadata": {},
     "output_type": "execute_result"
    }
   ],
   "source": [
    "df['round'].unique()"
   ]
  },
  {
   "cell_type": "code",
   "execution_count": 113,
   "metadata": {},
   "outputs": [
    {
     "data": {
      "text/plain": [
       "array([ 100,  200,  400,   50,  800, 1500])"
      ]
     },
     "execution_count": 113,
     "metadata": {},
     "output_type": "execute_result"
    }
   ],
   "source": [
    "df['distance'].unique()"
   ]
  },
  {
   "cell_type": "code",
   "execution_count": 114,
   "metadata": {},
   "outputs": [
    {
     "data": {
      "text/plain": [
       "array(['FLY', 'FREE', 'BACK', 'BREAST', 'MEDLEY'], dtype=object)"
      ]
     },
     "execution_count": 114,
     "metadata": {},
     "output_type": "execute_result"
    }
   ],
   "source": [
    "df['stroke'].unique()"
   ]
  },
  {
   "cell_type": "markdown",
   "metadata": {},
   "source": [
    "# First topic: Graphical EDA of men's 200 free heats\n"
   ]
  },
  {
   "cell_type": "markdown",
   "metadata": {},
   "source": [
    "## The dataset"
   ]
  },
  {
   "cell_type": "code",
   "execution_count": 101,
   "metadata": {},
   "outputs": [],
   "source": [
    "q1 = \"\"\"SELECT swimtime FROM df WHERE gender='M'AND distance=200 AND splitdistance=200 AND stroke='FREE' AND round='PRE'\"\"\"\n",
    "mens_200_free_heats=ps.sqldf(q1)\n",
    "mens_200_free_heats=mens_200_free_heats.to_numpy().reshape(-1)\n",
    "#print(mens_200_free_heats)"
   ]
  },
  {
   "cell_type": "markdown",
   "metadata": {},
   "source": [
    "## Graphical EDA"
   ]
  },
  {
   "cell_type": "markdown",
   "metadata": {},
   "source": [
    "In the heats, all contestants swim, the very fast and the very slow. To explore how the swim times are distributed, plot an ECDF of the men's 200 freestyle."
   ]
  },
  {
   "cell_type": "code",
   "execution_count": 7,
   "metadata": {},
   "outputs": [
    {
     "data": {
      "image/png": "[encoded data removed]",
      "text/plain": [
       "<Figure size 432x288 with 1 Axes>"
      ]
     },
     "metadata": {
      "needs_background": "light"
     },
     "output_type": "display_data"
    }
   ],
   "source": [
    "# Generate x and y values for ECDF: x, y\n",
    "x, y = dcst.ecdf(mens_200_free_heats)\n",
    "\n",
    "# Plot the ECDF as dots\n",
    "_=plt.plot(x,y,marker='.',linestyle='none')\n",
    "\n",
    "# Label axes and show plot\n",
    "_=plt.xlabel('time (s)')\n",
    "_=plt.ylabel('ECDF')\n",
    "plt.show()"
   ]
  },
  {
   "cell_type": "markdown",
   "metadata": {},
   "source": [
    "We see that fast swimmers are below 115 seconds, with a smattering of slow swimmers past that, including one very slow swimmer.\n"
   ]
  },
  {
   "cell_type": "markdown",
   "metadata": {},
   "source": [
    "## 200 m free time with confidence interval\n",
    "Now, you will practice parameter estimation and computation of confidence intervals by computing the mean and median swim time for the men's 200 freestyle heats. The median is useful because it is immune to heavy tails in the distribution of swim times, such as the slow swimmers in the heats. mens_200_free_heats is still in your namespace."
   ]
  },
  {
   "cell_type": "code",
   "execution_count": 102,
   "metadata": {},
   "outputs": [
    {
     "name": "stdout",
     "output_type": "stream",
     "text": [
      "\n",
      "mean time: 111.63 sec.\n",
      "95% conf int of mean: [110.50, 112.90] sec.\n",
      "\n",
      "median time: 110.04 sec.\n",
      "95% conf int of median: [108.96, 111.01] sec.\n",
      "\n"
     ]
    }
   ],
   "source": [
    "# Compute mean and median swim times\n",
    "mean_time = np.mean(mens_200_free_heats)\n",
    "median_time = np.median(mens_200_free_heats)\n",
    "\n",
    "# Draw 10,000 bootstrap replicates of the mean and median\n",
    "bs_reps_mean = dcst.draw_bs_reps(mens_200_free_heats,np.mean,size=10000)\n",
    "bs_reps_median = dcst.draw_bs_reps(mens_200_free_heats,np.median,size=10000)\n",
    "\n",
    "\n",
    "# Compute the 95% confidence intervals\n",
    "conf_int_mean = np.percentile(bs_reps_mean,[2.5,97.5])\n",
    "conf_int_median = np.percentile(bs_reps_median,[2.5,97.5])\n",
    "\n",
    "# Print the result to the screen\n",
    "print(\"\"\"\n",
    "mean time: {0:.2f} sec.\n",
    "95% conf int of mean: [{1:.2f}, {2:.2f}] sec.\n",
    "\n",
    "median time: {3:.2f} sec.\n",
    "95% conf int of median: [{4:.2f}, {5:.2f}] sec.\n",
    "\"\"\".format(mean_time, *conf_int_mean, median_time, *conf_int_median))"
   ]
  },
  {
   "cell_type": "markdown",
   "metadata": {},
   "source": [
    "Indeed, the mean swim time is longer than the median because of the effect of the very slow swimmers."
   ]
  },
  {
   "cell_type": "markdown",
   "metadata": {},
   "source": [
    "# Second topic: Do swimmers go faster in the finals?"
   ]
  },
  {
   "cell_type": "markdown",
   "metadata": {},
   "source": [
    "We need to pose our question in a more specific way:\n",
    "Do individual female swimmers swim faster in the finals compared to the semifinals?\n",
    "\n",
    "Implicit in this questions are the folowing facts:\n",
    "* We should use events that have semifinals: 50, 100 and 200 meters, freestyle, breaststroke, butterfly and backstroke.\n",
    "* A reasonable metric for improvement is the fractional improvement: (semifinals_time - final_time)/semifinal_time"
   ]
  },
  {
   "cell_type": "markdown",
   "metadata": {},
   "source": [
    "## The datasets"
   ]
  },
  {
   "cell_type": "code",
   "execution_count": 106,
   "metadata": {},
   "outputs": [],
   "source": [
    "q_all=\"\"\"SELECT DISTINCT sem.athleteid,sem.distance, sem.stroke, sem.round as sem_round, fin.round as fin_round,\n",
    "sem.swimtime AS sem_swimtime, fin.swimtime AS fin_swimtime\n",
    "FROM df AS sem INNER JOIN df AS fin \n",
    "ON (sem.athleteid=fin.athleteid AND sem.distance=fin.distance AND sem.stroke=fin.stroke)\n",
    "WHERE sem.round='SEM' AND fin.round='FIN' AND sem.gender='F'AND  sem.stroke != 'MEDLEY'AND sem.distance IN (50,100,200)\"\"\"\n",
    "#df_all=ps.sqldf(q_all)\n",
    "\n"
   ]
  },
  {
   "cell_type": "code",
   "execution_count": 103,
   "metadata": {},
   "outputs": [],
   "source": [
    "q_semi=\"\"\"SELECT sem_swimtime FROM df_all\"\"\"\n",
    "df_semi_times=ps.sqldf(q_semi)\n",
    "semi_times=df_semi_times.to_numpy()\n",
    "semi_times=np.reshape(semi_times,(semi_times.shape[0], ))\n"
   ]
  },
  {
   "cell_type": "code",
   "execution_count": 104,
   "metadata": {},
   "outputs": [],
   "source": [
    "q_final=\"\"\"SELECT fin_swimtime FROM df_all\"\"\"\n",
    "df_final_times=ps.sqldf(q_final)\n",
    "final_times=df_final_times.to_numpy()\n",
    "final_times=np.reshape(final_times,(final_times.shape[0], ))"
   ]
  },
  {
   "cell_type": "markdown",
   "metadata": {},
   "source": [
    "## EDA: finals versus semifinals\n",
    "First, you will get an understanding of how athletes' performance changes from the semifinals to the finals by computing the fractional improvement from the semifinals to finals and plotting an ECDF of all of these values.\n",
    "\n",
    "The arrays final_times and semi_times contain the swim times of the respective rounds. The arrays are aligned such that final_times[i] and semi_times[i] are for the same swimmer/event. If you are interested in the strokes/events, you can check out the data frame df in your namespace, which has more detailed information, but is not used in the analysis."
   ]
  },
  {
   "cell_type": "markdown",
   "metadata": {},
   "source": []
  },
  {
   "cell_type": "code",
   "execution_count": 105,
   "metadata": {},
   "outputs": [
    {
     "data": {
      "image/png": "[encoded data removed]",
      "text/plain": [
       "<Figure size 432x288 with 1 Axes>"
      ]
     },
     "metadata": {
      "needs_background": "light"
     },
     "output_type": "display_data"
    }
   ],
   "source": [
    "# Compute fractional difference in time between finals and semis\n",
    "f = (semi_times - final_times) / semi_times\n",
    "\n",
    "# Generate x and y values for the ECDF: x, y\n",
    "x , y =dcst.ecdf(f)\n",
    "\n",
    "# Make a plot of the ECDF\n",
    "_=plt.plot(x,y, marker='.',linestyle='none')\n",
    "# Label axes and show plot\n",
    "_ = plt.xlabel('f')\n",
    "_ = plt.ylabel('ECDF')\n",
    "plt.show()"
   ]
  },
  {
   "cell_type": "markdown",
   "metadata": {},
   "source": [
    " The median of the ECDF is juuuust above zero. But at first glance, it does not look like there is much of any difference between semifinals and finals. We'll check this carefully in the next exercises."
   ]
  },
  {
   "cell_type": "markdown",
   "metadata": {},
   "source": [
    "## Parameter estimates of difference between finals and semifinals\n",
    "Compute the mean fractional improvement from the semifinals to finals, along with a 95% confidence interval of the mean. The Numpy array f that you computed in the last exercise is in your namespace.#"
   ]
  },
  {
   "cell_type": "code",
   "execution_count": 27,
   "metadata": {},
   "outputs": [
    {
     "name": "stdout",
     "output_type": "stream",
     "text": [
      "\n",
      "mean frac. diff.: 0.00040\n",
      "95% conf int of mean frac. diff.: [-0.00090, 0.00173]\n"
     ]
    }
   ],
   "source": [
    "# Mean fractional time difference: f_mean\n",
    "f_mean = np.mean(f)\n",
    "# Get bootstrap reps of mean: bs_reps\n",
    "bs_reps = dcst.draw_bs_reps(f,np.mean,size=10000)\n",
    "\n",
    "# Compute confidence intervals: conf_int\n",
    "conf_int = np.percentile(bs_reps,[2.5,97.5])\n",
    "# Report\n",
    "print(\"\"\"\n",
    "mean frac. diff.: {0:.5f}\n",
    "95% conf int of mean frac. diff.: [{1:.5f}, {2:.5f}]\"\"\".format(f_mean, *conf_int))"
   ]
  },
  {
   "cell_type": "markdown",
   "metadata": {},
   "source": [
    "It looks like the mean finals time is juuuust faster than the mean semifinal time, and they very well may be the same. We'll test this hypothesis next."
   ]
  },
  {
   "cell_type": "markdown",
   "metadata": {},
   "source": [
    "## How to do the permutation test\n",
    "Based on our EDA and parameter estimates, it is tough to discern improvement from the semifinals to finals. In the next exercise, you will test the hypothesis that there is no difference in performance between the semifinals and finals. A permutation test is fitting for this. We will use the mean value of f as the test statistic. Which of the following simulates getting the test statistic under the null hypothesis?"
   ]
  },
  {
   "cell_type": "markdown",
   "metadata": {},
   "source": [
    "* Take an array of semifinal times and an array of final times for each swimmer for each stroke/distance pair.\n",
    "* Go through each array, and for each index, swap the entry in the respective final and semifinal array with a 50% probability.\n",
    "* Use the resulting final and semifinal arrays to compute f and then the mean of f."
   ]
  },
  {
   "cell_type": "markdown",
   "metadata": {},
   "source": [
    "## Generating permutation samples\n",
    "As you worked out in the last exercise, we need to generate a permutation sample by randomly swapping corresponding entries in the semi_times and final_times array. Write a function with signature swap_random(a, b) that returns arrays where random indices have the entries in a and b swapped."
   ]
  },
  {
   "cell_type": "markdown",
   "metadata": {},
   "source": []
  },
  {
   "cell_type": "code",
   "execution_count": 56,
   "metadata": {},
   "outputs": [],
   "source": [
    "def swap_random(a, b):\n",
    "    \"\"\"Randomly swap entries in two arrays.\"\"\"\n",
    "    # Indices to swap\n",
    "    swap_inds = np.random.random(size=len(a)) < 0.5\n",
    "    \n",
    "    # Make copies of arrays a and b for output\n",
    "    a_out = np.copy(a)\n",
    "    b_out = np.copy(b)\n",
    "    \n",
    "    # Swap values\n",
    "    a_out[swap_inds] = b[swap_inds]\n",
    "    b_out[swap_inds] = a[swap_inds]\n",
    "\n",
    "    return a_out, b_out"
   ]
  },
  {
   "cell_type": "markdown",
   "metadata": {},
   "source": [
    "## Hypothesis test: Do women swim the same way in semis and finals?\n",
    "Test the hypothesis that performance in the finals and semifinals are identical using the mean of the fractional improvement as your test statistic. The test statistic under the null hypothesis is considered to be at least as extreme as what was observed if it is greater than or equal to f_mean, which is already in your namespace.\n",
    "\n",
    "The semifinal and final times are contained in the numpy arrays semi_times and final_times."
   ]
  },
  {
   "cell_type": "code",
   "execution_count": 57,
   "metadata": {},
   "outputs": [
    {
     "name": "stdout",
     "output_type": "stream",
     "text": [
      "p = 0.27\n"
     ]
    }
   ],
   "source": [
    "# Set up array of permutation replicates\n",
    "perm_reps = np.empty(1000)\n",
    "\n",
    "for i in range(1000):\n",
    "    # Generate a permutation sample\n",
    "    semi_perm, final_perm = swap_random(semi_times,final_times)\n",
    "    \n",
    "    # Compute f from the permutation sample\n",
    "    f = (semi_perm - final_perm) / semi_perm\n",
    "    \n",
    "    # Compute and store permutation replicate\n",
    "    perm_reps[i] = np.mean(f)\n",
    "\n",
    "# Compute and print p-value\n",
    "print('p =', np.sum(perm_reps >= f_mean) / 1000)"
   ]
  },
  {
   "cell_type": "markdown",
   "metadata": {},
   "source": [
    "The p-value is large, about 0.27, which suggests that the results of the 2015 World Championships are consistent with there being no difference in performance between the finals and semifinals."
   ]
  },
  {
   "cell_type": "markdown",
   "metadata": {},
   "source": [
    "# third topic: How does the performance of swimmers decline over long events?"
   ]
  },
  {
   "cell_type": "markdown",
   "metadata": {},
   "source": [
    "To answer this question we will pick data following:\n",
    "* Use women's 800 m freestyle heats\n",
    "* Omit first and last 100 meters since swimmers go notoriously faster on them\n",
    "* Compute mean split tile for each split number\n",
    "* Perform linear regression to get slow down per split\n"
   ]
  },
  {
   "cell_type": "markdown",
   "metadata": {},
   "source": [
    "## The datasets"
   ]
  },
  {
   "cell_type": "code",
   "execution_count": 79,
   "metadata": {},
   "outputs": [],
   "source": [
    "q=\"\"\" SELECT athleteid, split, splitswimtime FROM df WHERE gender='F' AND distance=800 and stroke='FREE' AND split NOT IN (1,2,15,16) AND round='PRE'\n",
    "\"\"\"\n",
    "df_4=ps.sqldf(q)\n",
    "\n"
   ]
  },
  {
   "cell_type": "code",
   "execution_count": 80,
   "metadata": {},
   "outputs": [],
   "source": [
    "splits=df_4.pivot(index='athleteid', columns='split',values='splitswimtime').values\n"
   ]
  },
  {
   "cell_type": "code",
   "execution_count": 82,
   "metadata": {},
   "outputs": [],
   "source": [
    "split_number=df_4['split'].unique()\n"
   ]
  },
  {
   "cell_type": "markdown",
   "metadata": {},
   "source": [
    "## EDA: Plot all your data\n",
    "To get a graphical overview of a data set, it is often useful to plot all of your data. In this exercise, plot all of the splits for all female swimmers in the 800 meter heats. The data are available in a Numpy arrays split_number and splits. The arrays are organized such that splits[i,j] is the split time for swimmer i for split_number[j]."
   ]
  },
  {
   "cell_type": "code",
   "execution_count": 86,
   "metadata": {},
   "outputs": [
    {
     "data": {
      "image/png": "[encoded data removed]",
      "text/plain": [
       "<Figure size 432x288 with 1 Axes>"
      ]
     },
     "metadata": {
      "needs_background": "light"
     },
     "output_type": "display_data"
    }
   ],
   "source": [
    "# Plot the splits for each swimmer\n",
    "for splitset in splits:\n",
    "    _ = plt.plot(split_number, splitset, linewidth=1, color='lightgray')\n",
    "\n",
    "# Compute the mean split times\n",
    "mean_splits = np.mean(splits,axis=0)\n",
    "\n",
    "# Plot the mean split times\n",
    "_=plt.plot(split_number,mean_splits,marker='.',linewidth=3,markersize=12)\n",
    "\n",
    "# Label axes and show plot\n",
    "_ = plt.xlabel('split number')\n",
    "_ = plt.ylabel('split time (s)')\n",
    "plt.show()"
   ]
  },
  {
   "cell_type": "markdown",
   "metadata": {},
   "source": [
    "You can see that there is wide variability in the splits among the swimmers, and what appears to be a slight trend toward slower split times."
   ]
  },
  {
   "cell_type": "markdown",
   "metadata": {},
   "source": [
    "## Linear regression of average split time\n",
    "We will assume that the swimmers slow down in a linear fashion over the course of the 800 m event. The slowdown per split is then the slope of the mean split time versus split number plot. Perform a linear regression to estimate the slowdown per split and compute a pairs bootstrap 95% confidence interval on the slowdown. Also show a plot of the best fit line.\n",
    "\n",
    "Note: We can compute error bars for the mean split times and use those in the regression analysis, but we will not take those into account here, as that is beyond the scope of this course."
   ]
  },
  {
   "cell_type": "code",
   "execution_count": 84,
   "metadata": {},
   "outputs": [
    {
     "data": {
      "image/png": "[encoded data removed]",
      "text/plain": [
       "<Figure size 432x288 with 1 Axes>"
      ]
     },
     "metadata": {
      "needs_background": "light"
     },
     "output_type": "display_data"
    },
    {
     "name": "stdout",
     "output_type": "stream",
     "text": [
      "\n",
      "mean slowdown: 0.065 sec./split\n",
      "95% conf int of mean slowdown: [0.051, 0.079] sec./split\n"
     ]
    }
   ],
   "source": [
    "# Perform regression\n",
    "slowdown, split_3 = np.polyfit(split_number,mean_splits,1)\n",
    "\n",
    "# Compute pairs bootstrap\n",
    "bs_reps, _ = dcst.draw_bs_pairs_linreg(split_number,mean_splits,size=10000)\n",
    "\n",
    "# Compute confidence interval\n",
    "conf_int = np.percentile(bs_reps,[2.5,97.5])\n",
    "\n",
    "# Plot the data with regressions line\n",
    "_ = plt.plot(split_number, mean_splits, marker='.', linestyle='none')\n",
    "_ = plt.plot(split_number, slowdown * split_number + split_3, '-')\n",
    "\n",
    "# Label axes and show plot\n",
    "_ = plt.xlabel('split number')\n",
    "_ = plt.ylabel('split time (s)')\n",
    "plt.show()\n",
    "\n",
    "# Print the slowdown per split\n",
    "print(\"\"\"\n",
    "mean slowdown: {0:.3f} sec./split\n",
    "95% conf int of mean slowdown: [{1:.3f}, {2:.3f}] sec./split\"\"\".format(\n",
    "    slowdown, *conf_int))"
   ]
  },
  {
   "cell_type": "markdown",
   "metadata": {},
   "source": [
    "This is a small but discernable slowdown. We are going to run a hypothesis test next."
   ]
  },
  {
   "cell_type": "markdown",
   "metadata": {},
   "source": [
    "## Hypothesis test: are they slowing down?\n",
    "Now we will test the null hypothesis that the swimmer's split time is not at all correlated with the distance they are at in the swim. We will use the Pearson correlation coefficient (computed using dcst.pearson_r()) as the test statistic."
   ]
  },
  {
   "cell_type": "markdown",
   "metadata": {},
   "source": [
    "### Hipothesis test for correlation\n",
    "* Posit null hypothesis: split time and split number are completely uncorrelated\n",
    "* Simulate data assuming null hypothesis is true\n",
    "* Use Pearson correlation, denoted as rho, as test statistic\n",
    "* Compute p-value as the fraction of replicates that have Pearson correlation at least as large as observed."
   ]
  },
  {
   "cell_type": "code",
   "execution_count": 85,
   "metadata": {},
   "outputs": [
    {
     "name": "stdout",
     "output_type": "stream",
     "text": [
      "p = 0.0\n"
     ]
    }
   ],
   "source": [
    "# Observed correlation\n",
    "rho = dcst.pearson_r(split_number,mean_splits)\n",
    "\n",
    "# Initialize permutation reps\n",
    "perm_reps_rho = np.empty(10000)\n",
    "\n",
    "# Make permutation reps\n",
    "for i in range(10000):\n",
    "    # Scramble the split number array\n",
    "    scrambled_split_number = np.random.permutation(split_number)\n",
    "    \n",
    "    # Compute the Pearson correlation coefficient\n",
    "    perm_reps_rho[i] = dcst.pearson_r(scrambled_split_number,mean_splits)\n",
    "\n",
    "    \n",
    "# Compute and print p-value\n",
    "p_val = np.sum(perm_reps_rho >= rho) / len(perm_reps_rho)\n",
    "print('p =', p_val)"
   ]
  },
  {
   "cell_type": "markdown",
   "metadata": {},
   "source": [
    "The tiny effect is very real! With 10,000 replicates, we never got a correlation as big as observed under the hypothesis that the swimmers do not change speed as the race progresses. "
   ]
  },
  {
   "cell_type": "markdown",
   "metadata": {},
   "source": []
  }
 ],
 "metadata": {
  "interpreter": {
   "hash": "67567a4f62d7cf5f819c0c6d4bc3b67fc5d89bbce18d810cbad2b9429574bf20"
  },
  "kernelspec": {
   "display_name": "Python 3.8.12 64-bit ('DataCamp': conda)",
   "name": "python3"
  },
  "language_info": {
   "codemirror_mode": {
    "name": "ipython",
    "version": 3
   },
   "file_extension": ".py",
   "mimetype": "text/x-python",
   "name": "python",
   "nbconvert_exporter": "python",
   "pygments_lexer": "ipython3",
   "version": "3.8.12"
  },
  "orig_nbformat": 4
 },
 "nbformat": 4,
 "nbformat_minor": 2
}
