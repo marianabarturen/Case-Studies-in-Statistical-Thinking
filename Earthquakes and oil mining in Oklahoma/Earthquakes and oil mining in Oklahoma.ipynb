{
 "cells": [
  {
   "cell_type": "markdown",
   "metadata": {},
   "source": [
    "# Earthquakes and oil miming in Oklahoma\n",
    "The earthquakes in the Parkerfield region are due to stress release as the tectonic plates move relative to each other along the San Andreas fault. But the frequency of earthquakes and seismicity can change due to other geological events.\n",
    "\n",
    "Around 2010, hydraulic fracturing, known as fracking, saw a rapid rise in the US state of Oklahoma. Fracking itself does not seem to change seismic behavior, but wastewater from fracking is injected at high pressure deep into the earth, and this may cause earthquakes. \n",
    "\n",
    "Here, we will perform a quantitative analysis of earthquake frequencies in Oklahoma to see how they changed when fracking became widespread in 2010."
   ]
  },
  {
   "cell_type": "markdown",
   "metadata": {},
   "source": [
    "# 1 Earthquakes over time"
   ]
  },
  {
   "cell_type": "markdown",
   "metadata": {},
   "source": [
    "## The dataset"
   ]
  },
  {
   "cell_type": "code",
   "execution_count": 1,
   "metadata": {},
   "outputs": [],
   "source": [
    "import matplotlib.pyplot as plt\n",
    "import numpy as np\n",
    "import pandas as pd\n",
    "import pandasql as ps\n",
    "import dc_stat_think as dcst\n",
    "from datetime import datetime as dt\n",
    "import time as t"
   ]
  },
  {
   "cell_type": "markdown",
   "metadata": {},
   "source": []
  },
  {
   "cell_type": "code",
   "execution_count": 2,
   "metadata": {},
   "outputs": [
    {
     "data": {
      "text/html": [
       "<div>\n",
       "<style scoped>\n",
       "    .dataframe tbody tr th:only-of-type {\n",
       "        vertical-align: middle;\n",
       "    }\n",
       "\n",
       "    .dataframe tbody tr th {\n",
       "        vertical-align: top;\n",
       "    }\n",
       "\n",
       "    .dataframe thead th {\n",
       "        text-align: right;\n",
       "    }\n",
       "</style>\n",
       "<table border=\"1\" class=\"dataframe\">\n",
       "  <thead>\n",
       "    <tr style=\"text-align: right;\">\n",
       "      <th></th>\n",
       "      <th>time</th>\n",
       "      <th>latitude</th>\n",
       "      <th>longitude</th>\n",
       "      <th>depth</th>\n",
       "      <th>mag</th>\n",
       "      <th>magType</th>\n",
       "      <th>nst</th>\n",
       "      <th>gap</th>\n",
       "      <th>dmin</th>\n",
       "      <th>rms</th>\n",
       "      <th>net</th>\n",
       "      <th>id</th>\n",
       "      <th>updated</th>\n",
       "      <th>place</th>\n",
       "      <th>type</th>\n",
       "      <th>horizontalError</th>\n",
       "      <th>depthError</th>\n",
       "      <th>magError</th>\n",
       "      <th>magNst</th>\n",
       "      <th>status</th>\n",
       "      <th>locationSource</th>\n",
       "      <th>magSource</th>\n",
       "      <th>loc_name</th>\n",
       "      <th>loc_admin1</th>\n",
       "      <th>loc_admin2</th>\n",
       "      <th>loc_cc</th>\n",
       "    </tr>\n",
       "  </thead>\n",
       "  <tbody>\n",
       "    <tr>\n",
       "      <th>0</th>\n",
       "      <td>1974-12-16 02:30:21.400</td>\n",
       "      <td>35.330</td>\n",
       "      <td>-97.480</td>\n",
       "      <td>10.0</td>\n",
       "      <td>2.6</td>\n",
       "      <td>ml</td>\n",
       "      <td>NaN</td>\n",
       "      <td>NaN</td>\n",
       "      <td>NaN</td>\n",
       "      <td>NaN</td>\n",
       "      <td>us</td>\n",
       "      <td>usp000094v</td>\n",
       "      <td>2014-11-06T23:21:27.851Z</td>\n",
       "      <td>Oklahoma City urban area, Oklahoma</td>\n",
       "      <td>earthquake</td>\n",
       "      <td>NaN</td>\n",
       "      <td>NaN</td>\n",
       "      <td>NaN</td>\n",
       "      <td>NaN</td>\n",
       "      <td>reviewed</td>\n",
       "      <td>m</td>\n",
       "      <td>tul</td>\n",
       "      <td>Moore</td>\n",
       "      <td>Oklahoma</td>\n",
       "      <td>Cleveland County</td>\n",
       "      <td>US</td>\n",
       "    </tr>\n",
       "    <tr>\n",
       "      <th>1</th>\n",
       "      <td>1975-09-13 01:25:02.800</td>\n",
       "      <td>34.139</td>\n",
       "      <td>-97.369</td>\n",
       "      <td>5.0</td>\n",
       "      <td>3.4</td>\n",
       "      <td>lg</td>\n",
       "      <td>NaN</td>\n",
       "      <td>NaN</td>\n",
       "      <td>NaN</td>\n",
       "      <td>NaN</td>\n",
       "      <td>us</td>\n",
       "      <td>usp0000csk</td>\n",
       "      <td>2014-11-06T23:21:31.918Z</td>\n",
       "      <td>Oklahoma</td>\n",
       "      <td>earthquake</td>\n",
       "      <td>NaN</td>\n",
       "      <td>NaN</td>\n",
       "      <td>NaN</td>\n",
       "      <td>NaN</td>\n",
       "      <td>reviewed</td>\n",
       "      <td>us</td>\n",
       "      <td>tul</td>\n",
       "      <td>Wilson</td>\n",
       "      <td>Oklahoma</td>\n",
       "      <td>Carter County</td>\n",
       "      <td>US</td>\n",
       "    </tr>\n",
       "    <tr>\n",
       "      <th>2</th>\n",
       "      <td>1975-10-12 02:58:11.200</td>\n",
       "      <td>34.816</td>\n",
       "      <td>-97.406</td>\n",
       "      <td>20.0</td>\n",
       "      <td>3.2</td>\n",
       "      <td>lg</td>\n",
       "      <td>NaN</td>\n",
       "      <td>NaN</td>\n",
       "      <td>NaN</td>\n",
       "      <td>NaN</td>\n",
       "      <td>us</td>\n",
       "      <td>usp0000d4a</td>\n",
       "      <td>2014-11-06T23:21:32.248Z</td>\n",
       "      <td>Oklahoma</td>\n",
       "      <td>earthquake</td>\n",
       "      <td>NaN</td>\n",
       "      <td>NaN</td>\n",
       "      <td>NaN</td>\n",
       "      <td>NaN</td>\n",
       "      <td>reviewed</td>\n",
       "      <td>us</td>\n",
       "      <td>tul</td>\n",
       "      <td>Maysville</td>\n",
       "      <td>Oklahoma</td>\n",
       "      <td>Garvin County</td>\n",
       "      <td>US</td>\n",
       "    </tr>\n",
       "    <tr>\n",
       "      <th>3</th>\n",
       "      <td>1975-11-29 14:29:40.900</td>\n",
       "      <td>34.521</td>\n",
       "      <td>-97.347</td>\n",
       "      <td>5.0</td>\n",
       "      <td>3.5</td>\n",
       "      <td>lg</td>\n",
       "      <td>NaN</td>\n",
       "      <td>NaN</td>\n",
       "      <td>NaN</td>\n",
       "      <td>NaN</td>\n",
       "      <td>us</td>\n",
       "      <td>usp0000dsb</td>\n",
       "      <td>2014-11-06T23:21:32.839Z</td>\n",
       "      <td>Oklahoma</td>\n",
       "      <td>earthquake</td>\n",
       "      <td>NaN</td>\n",
       "      <td>NaN</td>\n",
       "      <td>NaN</td>\n",
       "      <td>NaN</td>\n",
       "      <td>reviewed</td>\n",
       "      <td>us</td>\n",
       "      <td>slm</td>\n",
       "      <td>Wynnewood</td>\n",
       "      <td>Oklahoma</td>\n",
       "      <td>Garvin County</td>\n",
       "      <td>US</td>\n",
       "    </tr>\n",
       "    <tr>\n",
       "      <th>4</th>\n",
       "      <td>1976-04-16 18:59:44.200</td>\n",
       "      <td>36.107</td>\n",
       "      <td>-99.875</td>\n",
       "      <td>5.0</td>\n",
       "      <td>3.4</td>\n",
       "      <td>NaN</td>\n",
       "      <td>NaN</td>\n",
       "      <td>NaN</td>\n",
       "      <td>NaN</td>\n",
       "      <td>NaN</td>\n",
       "      <td>us</td>\n",
       "      <td>usp0000fwz</td>\n",
       "      <td>2014-11-06T23:21:34.833Z</td>\n",
       "      <td>Oklahoma</td>\n",
       "      <td>earthquake</td>\n",
       "      <td>NaN</td>\n",
       "      <td>NaN</td>\n",
       "      <td>NaN</td>\n",
       "      <td>NaN</td>\n",
       "      <td>reviewed</td>\n",
       "      <td>us</td>\n",
       "      <td>tul</td>\n",
       "      <td>Arnett</td>\n",
       "      <td>Oklahoma</td>\n",
       "      <td>Ellis County</td>\n",
       "      <td>US</td>\n",
       "    </tr>\n",
       "  </tbody>\n",
       "</table>\n",
       "</div>"
      ],
      "text/plain": [
       "                      time  latitude  longitude  depth  mag magType  nst  gap  \\\n",
       "0  1974-12-16 02:30:21.400    35.330    -97.480   10.0  2.6      ml  NaN  NaN   \n",
       "1  1975-09-13 01:25:02.800    34.139    -97.369    5.0  3.4      lg  NaN  NaN   \n",
       "2  1975-10-12 02:58:11.200    34.816    -97.406   20.0  3.2      lg  NaN  NaN   \n",
       "3  1975-11-29 14:29:40.900    34.521    -97.347    5.0  3.5      lg  NaN  NaN   \n",
       "4  1976-04-16 18:59:44.200    36.107    -99.875    5.0  3.4     NaN  NaN  NaN   \n",
       "\n",
       "   dmin  rms net          id                   updated  \\\n",
       "0   NaN  NaN  us  usp000094v  2014-11-06T23:21:27.851Z   \n",
       "1   NaN  NaN  us  usp0000csk  2014-11-06T23:21:31.918Z   \n",
       "2   NaN  NaN  us  usp0000d4a  2014-11-06T23:21:32.248Z   \n",
       "3   NaN  NaN  us  usp0000dsb  2014-11-06T23:21:32.839Z   \n",
       "4   NaN  NaN  us  usp0000fwz  2014-11-06T23:21:34.833Z   \n",
       "\n",
       "                                place        type  horizontalError  \\\n",
       "0  Oklahoma City urban area, Oklahoma  earthquake              NaN   \n",
       "1                            Oklahoma  earthquake              NaN   \n",
       "2                            Oklahoma  earthquake              NaN   \n",
       "3                            Oklahoma  earthquake              NaN   \n",
       "4                            Oklahoma  earthquake              NaN   \n",
       "\n",
       "   depthError  magError  magNst    status locationSource magSource   loc_name  \\\n",
       "0         NaN       NaN     NaN  reviewed              m       tul      Moore   \n",
       "1         NaN       NaN     NaN  reviewed             us       tul     Wilson   \n",
       "2         NaN       NaN     NaN  reviewed             us       tul  Maysville   \n",
       "3         NaN       NaN     NaN  reviewed             us       slm  Wynnewood   \n",
       "4         NaN       NaN     NaN  reviewed             us       tul     Arnett   \n",
       "\n",
       "  loc_admin1        loc_admin2 loc_cc  \n",
       "0   Oklahoma  Cleveland County     US  \n",
       "1   Oklahoma     Carter County     US  \n",
       "2   Oklahoma     Garvin County     US  \n",
       "3   Oklahoma     Garvin County     US  \n",
       "4   Oklahoma      Ellis County     US  "
      ]
     },
     "execution_count": 2,
     "metadata": {},
     "output_type": "execute_result"
    }
   ],
   "source": [
    "pd.set_option('max_columns', None)\n",
    "df_oklahoma = pd.read_csv (r'oklahoma_earthquakes_1950-2017.csv',skiprows=2)\n",
    "df_oklahoma.head(5)"
   ]
  },
  {
   "cell_type": "code",
   "execution_count": 3,
   "metadata": {},
   "outputs": [],
   "source": [
    "df_oklahoma['time']=pd.to_datetime(df_oklahoma['time'])"
   ]
  },
  {
   "cell_type": "markdown",
   "metadata": {},
   "source": [
    "### The dataset"
   ]
  },
  {
   "cell_type": "code",
   "execution_count": 4,
   "metadata": {},
   "outputs": [],
   "source": [
    "df_oklahoma_bounded=df_oklahoma[df_oklahoma['time']>='1980-01-01 00:00']\n",
    "df_oklahoma_bounded=df_oklahoma_bounded[df_oklahoma_bounded['time']<='2017-07-01 00:00.000']\n",
    "df_oklahoma_bounded.reset_index(inplace=True)"
   ]
  },
  {
   "cell_type": "code",
   "execution_count": 5,
   "metadata": {},
   "outputs": [
    {
     "name": "stdout",
     "output_type": "stream",
     "text": [
      "8924\n"
     ]
    }
   ],
   "source": [
    "q=\"\"\"SELECT mag\n",
    "FROM df_oklahoma_bounded\n",
    "\"\"\"\n",
    "mags=ps.sqldf(q)\n",
    "mags=mags.to_numpy().reshape(-1)\n",
    "#print(mags)\n",
    "print(len(mags))\n"
   ]
  },
  {
   "cell_type": "code",
   "execution_count": 6,
   "metadata": {},
   "outputs": [],
   "source": [
    "def toYearFraction(date):\n",
    "    def sinceEpoch(date): # returns seconds since epoch\n",
    "        return t.mktime(date.timetuple())\n",
    "    s = sinceEpoch\n",
    "\n",
    "    year = date.year\n",
    "    startOfThisYear = dt(year=year, month=1, day=1)\n",
    "    startOfNextYear = dt(year=year+1, month=1, day=1)\n",
    "\n",
    "    yearElapsed = s(date) - s(startOfThisYear)\n",
    "    yearDuration = s(startOfNextYear) - s(startOfThisYear)\n",
    "    fraction = yearElapsed/yearDuration\n",
    "\n",
    "    return date.year + fraction"
   ]
  },
  {
   "cell_type": "code",
   "execution_count": 7,
   "metadata": {},
   "outputs": [
    {
     "name": "stdout",
     "output_type": "stream",
     "text": [
      "8924\n"
     ]
    }
   ],
   "source": [
    "#df_oklahoma['decimal_year']=toYearFraction(df_oklahoma['time'])\n",
    "\n",
    "time=np.empty(len(df_oklahoma_bounded.index))\n",
    "#df_oklahoma_bounded\n",
    "for index, value in df_oklahoma_bounded['time'].items():\n",
    "    time[index]=toYearFraction(value)\n",
    "print(len(time))"
   ]
  },
  {
   "cell_type": "markdown",
   "metadata": {},
   "source": [
    "\n",
    "[1980.83720557 1981.52570277 1982.33514999 ... 2017.4972421  2017.49814877\n",
    " 2017.49845266]"
   ]
  },
  {
   "cell_type": "markdown",
   "metadata": {},
   "source": [
    "# EDA: Plotting earthquakes over time"
   ]
  },
  {
   "cell_type": "code",
   "execution_count": 8,
   "metadata": {},
   "outputs": [
    {
     "data": {
      "image/png": "[encoded data removed]",
      "text/plain": [
       "<Figure size 432x288 with 1 Axes>"
      ]
     },
     "metadata": {
      "needs_background": "light"
     },
     "output_type": "display_data"
    }
   ],
   "source": [
    "# Plot time vs. magnitude\n",
    "\n",
    "_=plt.plot(time,mags,marker='.',linestyle='none', alpha=0.1)\n",
    "\n",
    "# Label axes and show the plot\n",
    "plt.xlabel('time (year)')\n",
    "plt.ylabel('magnitude')\n",
    "plt.show()\n"
   ]
  },
  {
   "cell_type": "markdown",
   "metadata": {},
   "source": [
    "## Estimates of the mean interearthquake times\n",
    "The graphical EDA in the last exercise shows an obvious change in earthquake frequency around 2010. To compare, compute the mean time between earthquakes of magnitude 3 and larger from 1980 through 2009 and also from 2010 through mid-2017. Also include 95% confidence intervals of the mean. The variables dt_pre and dt_post respectively contain the time gap between all earthquakes of magnitude at least 3 from pre-2010 and post-2010 in units of days."
   ]
  },
  {
   "cell_type": "markdown",
   "metadata": {},
   "source": [
    "### The dataset"
   ]
  },
  {
   "cell_type": "code",
   "execution_count": 9,
   "metadata": {},
   "outputs": [],
   "source": [
    "df_oklahoma_bounded=df_oklahoma[df_oklahoma['time']>='1980-01-01 00:00']\n",
    "df_oklahoma_bounded=df_oklahoma_bounded[df_oklahoma_bounded['time']<='2017-07-01 12:00.000']\n",
    "df_oklahoma_bounded.reset_index(inplace=True)"
   ]
  },
  {
   "cell_type": "code",
   "execution_count": 10,
   "metadata": {},
   "outputs": [
    {
     "name": "stdout",
     "output_type": "stream",
     "text": [
      "52\n"
     ]
    }
   ],
   "source": [
    "q=\"\"\"SELECT JULIANDAY(time)-JULIANDAY(LAG(time,1,0) OVER (ORDER BY time))\n",
    "FROM df_oklahoma_bounded\n",
    "WHERE mag>=3 AND time<'2010-01-01 00:00'\n",
    "\"\"\"\n",
    "dt_pre=ps.sqldf(q)\n",
    "dt_pre=dt_pre.to_numpy().reshape(-1)\n",
    "dt_pre=dt_pre[1:]\n",
    "#print(dt_pre)\n",
    "print(len(dt_pre))\n"
   ]
  },
  {
   "cell_type": "code",
   "execution_count": 11,
   "metadata": {},
   "outputs": [],
   "source": [
    "q=\"\"\"SELECT JULIANDAY(time)-JULIANDAY(LAG(time,1,0) OVER (ORDER BY time))\n",
    "FROM df_oklahoma_bounded\n",
    "WHERE mag>=3 AND time>='2010-01-01 00:00'\n",
    "\"\"\"\n",
    "dt_post=ps.sqldf(q)\n",
    "dt_post=dt_post.to_numpy().reshape(-1)\n",
    "dt_post=dt_post[1:]\n",
    "#print(dt_post)\n",
    "#print(len(dt_post))\n"
   ]
  },
  {
   "cell_type": "markdown",
   "metadata": {},
   "source": [
    "### Computing mean interearthquake times"
   ]
  },
  {
   "cell_type": "code",
   "execution_count": 12,
   "metadata": {},
   "outputs": [
    {
     "name": "stdout",
     "output_type": "stream",
     "text": [
      "1980 through 2009\n",
      "mean time gap: 204.61 days\n",
      "95% conf int: [140.77, 277.43] days\n",
      "\n",
      "2010 through mid-2017\n",
      "mean time gap: 1.12 days\n",
      "95% conf int: [0.97, 1.29] days\n"
     ]
    }
   ],
   "source": [
    "# Compute mean interearthquake time\n",
    "\n",
    "mean_dt_pre = np.mean(dt_pre)\n",
    "mean_dt_post = np.mean(dt_post)\n",
    "\n",
    "# Draw 10,000 bootstrap replicates of the mean\n",
    "bs_reps_pre = dcst.draw_bs_reps(dt_pre,np.mean,size=10000)\n",
    "bs_reps_post = dcst.draw_bs_reps(dt_post,np.mean,size=10000)\n",
    "\n",
    "# Compute the confidence interval\n",
    "conf_int_pre = np.percentile(bs_reps_pre,[2.5,97.5])\n",
    "conf_int_post = np.percentile(bs_reps_post,[2.5,97.5])\n",
    "\n",
    "# Print the results\n",
    "print(\"\"\"1980 through 2009\n",
    "mean time gap: {0:.2f} days\n",
    "95% conf int: [{1:.2f}, {2:.2f}] days\"\"\".format(mean_dt_pre, *conf_int_pre))\n",
    "\n",
    "print(\"\"\"\n",
    "2010 through mid-2017\n",
    "mean time gap: {0:.2f} days\n",
    "95% conf int: [{1:.2f}, {2:.2f}] days\"\"\".format(mean_dt_post, *conf_int_post))\n"
   ]
  },
  {
   "cell_type": "markdown",
   "metadata": {},
   "source": [
    "There is almost a 200-fold increase in earthquake frequency after 2010."
   ]
  },
  {
   "cell_type": "markdown",
   "metadata": {},
   "source": [
    "## Hypothesis test: did earthquake frequency change?\n",
    "Obviously, there was a massive increase in earthquake frequency once wastewater injection began. \n",
    "Nonetheless, you will still do a hypothesis test for practice. You will not test the hypothesis that the \n",
    "interearthquake times have the same distribution before and after 2010, since wastewater injection may \n",
    "affect the distribution. Instead, you will assume that they have the same mean. So, compute the p-value \n",
    "associated with the hypothesis that the pre- and post-2010 interearthquake times have the same mean, using the mean of pre-2010 time gaps minus the mean of post-2010 time gaps as your test statistic."
   ]
  },
  {
   "cell_type": "code",
   "execution_count": 13,
   "metadata": {},
   "outputs": [
    {
     "name": "stdout",
     "output_type": "stream",
     "text": [
      "p = 0.0\n"
     ]
    }
   ],
   "source": [
    "# Compute the observed test statistic\n",
    "mean_dt_diff = mean_dt_pre - mean_dt_post\n",
    "\n",
    "# Shift the post-2010 data to have the same mean as the pre-2010 data\n",
    "dt_post_shift = dt_post - mean_dt_post + mean_dt_pre\n",
    "\n",
    "# Compute 10,000 bootstrap replicates from arrays\n",
    "bs_reps_pre = dcst.draw_bs_reps(dt_pre,np.mean,size=10000)\n",
    "bs_reps_post = dcst.draw_bs_reps(dt_post_shift,np.mean,size=10000)\n",
    "\n",
    "# Get replicates of difference of means\n",
    "bs_reps = bs_reps_pre - bs_reps_post\n",
    "\n",
    "# Compute and print the p-value\n",
    "p_val = np.sum(bs_reps >= mean_dt_diff) / 10000\n",
    "print('p =', p_val)"
   ]
  },
  {
   "cell_type": "markdown",
   "metadata": {},
   "source": [
    "In 10,000 samples, not one had a test statistic greater than was was observed. The p-value is, predictably based on what we have done so far, tiiiiiny!"
   ]
  },
  {
   "cell_type": "markdown",
   "metadata": {},
   "source": [
    "# What about magnitudes pre and post fracking?"
   ]
  },
  {
   "cell_type": "markdown",
   "metadata": {},
   "source": [
    "## EDA: Comparing magnitudes before and after 2010\n",
    "Make an ECDF of earthquake magnitudes from 1980 through 2009. On the same plot, show an ECDF of magnitudes of earthquakes from 2010 through mid-2017. "
   ]
  },
  {
   "cell_type": "code",
   "execution_count": 14,
   "metadata": {},
   "outputs": [
    {
     "data": {
      "image/png": "[encoded data removed]",
      "text/plain": [
       "<Figure size 432x288 with 1 Axes>"
      ]
     },
     "metadata": {
      "needs_background": "light"
     },
     "output_type": "display_data"
    }
   ],
   "source": [
    "# Get magnitudes before and after 2010\n",
    "mags_pre = mags[time < 2010]\n",
    "mags_post = mags[time >= 2010]\n",
    "\n",
    "# Generate ECDFs\n",
    "_=plt.plot(*dcst.ecdf(mags_pre),marker='.',linestyle='none')\n",
    "_=plt.plot(*dcst.ecdf(mags_post),marker='.',linestyle='none')\n",
    "\n",
    "# Label axes and show plot\n",
    "_ = plt.xlabel('magnitude')\n",
    "_ = plt.ylabel('ECDF')\n",
    "plt.legend(('1980 though 2009', '2010 through mid-2017'), loc='upper left')\n",
    "plt.show()"
   ]
  },
  {
   "cell_type": "markdown",
   "metadata": {},
   "source": [
    "Both curves seem to follow the Gutenberg-Richter Law, but with different completeness thresholds, probably due to improvements in sensing capabilities in more recent years."
   ]
  },
  {
   "cell_type": "markdown",
   "metadata": {},
   "source": [
    "## Quantification of the b-values\n",
    "Based on the previous plot, we can safely use a completeness threshold of mt = 3. Using this threshold, we will compute b-values for the period between 1980 and 2009 and for 2010 through mid-2017. "
   ]
  },
  {
   "cell_type": "code",
   "execution_count": 15,
   "metadata": {},
   "outputs": [],
   "source": [
    "def b_value(mags, mt, perc=[2.5, 97.5], n_reps=None):\n",
    "    \"\"\"Compute the b-value and optionally its confidence interval.\"\"\"\n",
    "    # Extract magnitudes above completeness threshold: m\n",
    "    m = mags[mags >= mt]\n",
    "\n",
    "    # Compute b-value: b\n",
    "    b = (np.mean(m)-mt)*np.log(10)\n",
    "\n",
    "    # Dranw bootstrap replicates\n",
    "    if n_reps is None:\n",
    "        return b\n",
    "    else:\n",
    "        m_bs_reps = dcst.draw_bs_reps(m,np.mean,size=n_reps)\n",
    "\n",
    "        # Compute b-value from replicates: b_bs_reps\n",
    "        b_bs_reps = (m_bs_reps - mt) * np.log(10)\n",
    "\n",
    "        # Compute confidence interval: conf_int\n",
    "        conf_int = np.percentile(b_bs_reps,perc)\n",
    "    \n",
    "        return b, conf_int"
   ]
  },
  {
   "cell_type": "markdown",
   "metadata": {},
   "source": []
  },
  {
   "cell_type": "code",
   "execution_count": 16,
   "metadata": {},
   "outputs": [
    {
     "name": "stdout",
     "output_type": "stream",
     "text": [
      "\n",
      "1980 through 2009\n",
      "b-value: 0.74\n",
      "95% conf int: [0.54, 0.97]\n",
      "\n",
      "2010 through mid-2017\n",
      "b-value: 0.62\n",
      "95% conf int: [0.60, 0.65]\n",
      "\n"
     ]
    }
   ],
   "source": [
    "# Compute b-value and confidence interval for pre-2010\n",
    "b_pre, conf_int_pre = b_value(mags_pre, mt=3, perc=[2.5, 97.5], n_reps=10000)\n",
    "\n",
    "# Compute b-value and confidence interval for post-2010\n",
    "b_post, conf_int_post = b_value(mags_post, mt=3, perc=[2.5, 97.5], n_reps=10000)\n",
    "\n",
    "# Report the results\n",
    "print(\"\"\"\n",
    "1980 through 2009\n",
    "b-value: {0:.2f}\n",
    "95% conf int: [{1:.2f}, {2:.2f}]\n",
    "\n",
    "2010 through mid-2017\n",
    "b-value: {3:.2f}\n",
    "95% conf int: [{4:.2f}, {5:.2f}]\n",
    "\"\"\".format(b_pre, *conf_int_pre, b_post, *conf_int_post))\n"
   ]
  },
  {
   "cell_type": "markdown",
   "metadata": {},
   "source": [
    "The confidence interval for the b-value for recent earthquakes is tighter than for earlier ones because there are many more recent ones. Still, the confidence intervals overlap, and we can perform a hypothesis test to see if we might get these results if the b-values are actually the same."
   ]
  },
  {
   "cell_type": "markdown",
   "metadata": {},
   "source": []
  },
  {
   "cell_type": "markdown",
   "metadata": {},
   "source": [
    "## How should we do a hypothesis test on differences of the b-value?\n",
    "\n",
    "* We should only include earthquakes that have magnitudes above the completeness threshold. A value of 3 is reasonable.\n",
    "\n",
    "* We should perform a permutation test because asserting a null hypothesis that the b-values are the same implicitly assumes that the magnitudes are identically distributed, specifically Exponentially, by the Gutenberg-Richter Law.\n",
    "\n",
    "* A reasonable test statistic is the difference between the mean post-2010 magnitude and the mean pre-2010 magnitude.\n",
    "\n",
    "* We do not need to worry about the fact that there were far fewer earthquakes before 2010 than there were after. That is to say, there are fewer earthquakes before 2010, but sufficiently many to do a permutation test.\n",
    "\n",
    "* We do not need to worry about the fact that the two time intervals are of different length.\n"
   ]
  },
  {
   "cell_type": "markdown",
   "metadata": {},
   "source": [
    "For instructional purposes, here are reasons why each is true: Option 1 is true because below the completeness threshold, we are not comparing earthquakes before and after 2010, but observed earthquakes before and after 2010. We do not have a complete data set below the completeness threshold. Option 2 is true because we really are assuming the Gutenberg-Richter law holds, in part because we are only considering earthquakes above the completeness threshold. We are using a model (the G-R law) to deal with missing data. So, since both sets of quakes follow the same statistical model, and that model has a single parameter, a permutation test is appropriate. Option 3 is true, even though you may be thinking that the mean values are not the b-values, and that you should be using the difference in b-value as your test statistic. However, the difference in mean magnitude is directly proportional to the difference in b-value, so the result of the hypothesis test will be identical if we use b-values of mean magnitudes. Option 4 is true because even though they have different numbers of earthquakes, you are only interested in summary statistics about their magnitude. There were 53 earthquakes between 1980 and 2009 with magnitude 3 or greater, so we have enough to compute a reliable mean. Option 5 is true because, provided the time interval is long enough, the b-value is independent of the time interval, just like the mean of Exponentially distributed values is independent of how many there are, provided there are not too few."
   ]
  },
  {
   "cell_type": "markdown",
   "metadata": {},
   "source": [
    "## Hypothesis test: are the b-values different?\n"
   ]
  },
  {
   "cell_type": "code",
   "execution_count": 18,
   "metadata": {},
   "outputs": [
    {
     "name": "stdout",
     "output_type": "stream",
     "text": [
      "p = 0.104\n"
     ]
    }
   ],
   "source": [
    "# Only magnitudes above completeness threshold\n",
    "mags_pre = mags_pre[mags_pre >= 3]\n",
    "mags_post = mags_post[mags_post >= 3]\n",
    "\n",
    "# Observed difference in mean magnitudes: diff_obs\n",
    "diff_obs = np.mean(mags_post) - np.mean(mags_pre)\n",
    "\n",
    "# Generate permutation replicates: perm_reps\n",
    "perm_reps = dcst.draw_perm_reps(mags_post,mags_pre,dcst.diff_of_means,size=10000)\n",
    "\n",
    "# Compute and print p-value\n",
    "p_val = np.sum(perm_reps < diff_obs) / 10000\n",
    "print('p =', p_val)"
   ]
  },
  {
   "cell_type": "markdown",
   "metadata": {},
   "source": [
    "A p-value around 0.1 suggests that the observed magnitudes are commensurate with there being no change in b-value after wastewater injection began."
   ]
  },
  {
   "cell_type": "markdown",
   "metadata": {},
   "source": []
  }
 ],
 "metadata": {
  "interpreter": {
   "hash": "67567a4f62d7cf5f819c0c6d4bc3b67fc5d89bbce18d810cbad2b9429574bf20"
  },
  "kernelspec": {
   "display_name": "Python 3.8.12 64-bit ('DataCamp': conda)",
   "name": "python3"
  },
  "language_info": {
   "codemirror_mode": {
    "name": "ipython",
    "version": 3
   },
   "file_extension": ".py",
   "mimetype": "text/x-python",
   "name": "python",
   "nbconvert_exporter": "python",
   "pygments_lexer": "ipython3",
   "version": "3.8.12"
  },
  "orig_nbformat": 4
 },
 "nbformat": 4,
 "nbformat_minor": 2
}
