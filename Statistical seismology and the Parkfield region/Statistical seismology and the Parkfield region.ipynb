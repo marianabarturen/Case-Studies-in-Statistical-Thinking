{
 "cells": [
  {
   "cell_type": "markdown",
   "metadata": {},
   "source": [
    "# The Parkfield experiment\n",
    "\n",
    "California is one of the most seismically active regions in the world.  The Parkfield region, is a portion of the San Andreas fault of particular interest to seismologists because of its high number of earthquakes.\n",
    "\n",
    "We eill take a statistical approach to study these earthquakes. \n",
    "\n",
    "Some usefull concepts:\n",
    "\n",
    "* location parameter/completeness threshold ($m_t$): defines the shift of a distribution function along the x-axis.\n",
    "* The Gutenberg-Richter Law: the magnitudes of earthquakes in a given region over a given time period are Exponentially distributed. This is quite convenient for characterizing earthquake magnitudes because the Exponential distribution has a single parameter,$m-m_t$\n",
    "* b value:For historical reasons, seismologists do not use the mean directly, but the mean times the natural logarithm of ten. The result is a measure of seismicity, called the b-value. Most seismically active regions have a b-value right around one.\n",
    "* For low magnitude earthquakes, we see a strong departure from Exponentiality.This is called *roll-off*, and is due to the fact that lower-magnitude earthquakes are difficult to detect. Now you see where the name \"completeness threshold\" comes from.It is the magnitude above which we can measure all earthquakes.\n",
    "\n"
   ]
  },
  {
   "cell_type": "markdown",
   "metadata": {},
   "source": [
    "## The data\n",
    "Sources:\n",
    "* Fault data: USGS Quaternary Fault Fault and Fold Database of the United States\n",
    "* Earthquake data: USGS ANSS Comprehensive Earthquake Catalog (ComCat)"
   ]
  },
  {
   "cell_type": "code",
   "execution_count": 1,
   "metadata": {},
   "outputs": [],
   "source": [
    "import matplotlib.pyplot as plt\n",
    "import numpy as np\n",
    "import pandas as pd\n",
    "import pandasql as ps\n",
    "import dc_stat_think as dcst"
   ]
  },
  {
   "cell_type": "code",
   "execution_count": 2,
   "metadata": {},
   "outputs": [
    {
     "data": {
      "text/html": [
       "<div>\n",
       "<style scoped>\n",
       "    .dataframe tbody tr th:only-of-type {\n",
       "        vertical-align: middle;\n",
       "    }\n",
       "\n",
       "    .dataframe tbody tr th {\n",
       "        vertical-align: top;\n",
       "    }\n",
       "\n",
       "    .dataframe thead th {\n",
       "        text-align: right;\n",
       "    }\n",
       "</style>\n",
       "<table border=\"1\" class=\"dataframe\">\n",
       "  <thead>\n",
       "    <tr style=\"text-align: right;\">\n",
       "      <th></th>\n",
       "      <th>time</th>\n",
       "      <th>latitude</th>\n",
       "      <th>longitude</th>\n",
       "      <th>depth</th>\n",
       "      <th>mag</th>\n",
       "      <th>magType</th>\n",
       "      <th>nst</th>\n",
       "      <th>gap</th>\n",
       "      <th>dmin</th>\n",
       "      <th>rms</th>\n",
       "      <th>net</th>\n",
       "      <th>id</th>\n",
       "      <th>updated</th>\n",
       "      <th>place</th>\n",
       "      <th>type</th>\n",
       "      <th>horizontalError</th>\n",
       "      <th>depthError</th>\n",
       "      <th>magError</th>\n",
       "      <th>magNst</th>\n",
       "      <th>status</th>\n",
       "      <th>locationSource</th>\n",
       "      <th>magSource</th>\n",
       "      <th>loc_name</th>\n",
       "      <th>loc_admin1</th>\n",
       "      <th>loc_admin2</th>\n",
       "      <th>loc_cc</th>\n",
       "    </tr>\n",
       "  </thead>\n",
       "  <tbody>\n",
       "    <tr>\n",
       "      <th>0</th>\n",
       "      <td>1951-10-03 13:44:33.170</td>\n",
       "      <td>35.869333</td>\n",
       "      <td>-120.451000</td>\n",
       "      <td>6.0</td>\n",
       "      <td>3.67</td>\n",
       "      <td>ml</td>\n",
       "      <td>6.0</td>\n",
       "      <td>259.0</td>\n",
       "      <td>1.5480</td>\n",
       "      <td>0.43</td>\n",
       "      <td>ci</td>\n",
       "      <td>ci3322265</td>\n",
       "      <td>2016-01-28T18:07:55.760Z</td>\n",
       "      <td>4km SSW of Parkfield, CA</td>\n",
       "      <td>earthquake</td>\n",
       "      <td>3.85</td>\n",
       "      <td>31.61</td>\n",
       "      <td>0.154</td>\n",
       "      <td>10.0</td>\n",
       "      <td>reviewed</td>\n",
       "      <td>ci</td>\n",
       "      <td>ci</td>\n",
       "      <td>Shandon</td>\n",
       "      <td>California</td>\n",
       "      <td>San Luis Obispo County</td>\n",
       "      <td>US</td>\n",
       "    </tr>\n",
       "    <tr>\n",
       "      <th>1</th>\n",
       "      <td>1953-05-28 07:58:34.510</td>\n",
       "      <td>36.004167</td>\n",
       "      <td>-120.501167</td>\n",
       "      <td>6.0</td>\n",
       "      <td>3.61</td>\n",
       "      <td>ml</td>\n",
       "      <td>7.0</td>\n",
       "      <td>296.0</td>\n",
       "      <td>0.9139</td>\n",
       "      <td>0.39</td>\n",
       "      <td>ci</td>\n",
       "      <td>ci3304011</td>\n",
       "      <td>2016-01-28T18:11:50.020Z</td>\n",
       "      <td>13km NNW of Parkfield, CA</td>\n",
       "      <td>earthquake</td>\n",
       "      <td>3.28</td>\n",
       "      <td>31.61</td>\n",
       "      <td>NaN</td>\n",
       "      <td>1.0</td>\n",
       "      <td>reviewed</td>\n",
       "      <td>ci</td>\n",
       "      <td>ci</td>\n",
       "      <td>Coalinga</td>\n",
       "      <td>California</td>\n",
       "      <td>Fresno County</td>\n",
       "      <td>US</td>\n",
       "    </tr>\n",
       "    <tr>\n",
       "      <th>2</th>\n",
       "      <td>1961-12-14 11:51:15.410</td>\n",
       "      <td>35.970000</td>\n",
       "      <td>-120.470167</td>\n",
       "      <td>6.0</td>\n",
       "      <td>3.95</td>\n",
       "      <td>ml</td>\n",
       "      <td>12.0</td>\n",
       "      <td>297.0</td>\n",
       "      <td>0.8718</td>\n",
       "      <td>0.51</td>\n",
       "      <td>ci</td>\n",
       "      <td>ci3344629</td>\n",
       "      <td>2016-01-28T19:48:08.330Z</td>\n",
       "      <td>9km NNW of Parkfield, CA</td>\n",
       "      <td>earthquake</td>\n",
       "      <td>3.43</td>\n",
       "      <td>31.61</td>\n",
       "      <td>0.070</td>\n",
       "      <td>11.0</td>\n",
       "      <td>reviewed</td>\n",
       "      <td>ci</td>\n",
       "      <td>ci</td>\n",
       "      <td>Coalinga</td>\n",
       "      <td>California</td>\n",
       "      <td>Fresno County</td>\n",
       "      <td>US</td>\n",
       "    </tr>\n",
       "    <tr>\n",
       "      <th>3</th>\n",
       "      <td>1965-02-21 18:39:24.500</td>\n",
       "      <td>35.881000</td>\n",
       "      <td>-120.383500</td>\n",
       "      <td>6.0</td>\n",
       "      <td>3.54</td>\n",
       "      <td>ml</td>\n",
       "      <td>10.0</td>\n",
       "      <td>257.0</td>\n",
       "      <td>1.5380</td>\n",
       "      <td>0.56</td>\n",
       "      <td>ci</td>\n",
       "      <td>ci3330686</td>\n",
       "      <td>2016-01-28T19:32:10.560Z</td>\n",
       "      <td>5km ESE of Parkfield, CA</td>\n",
       "      <td>earthquake</td>\n",
       "      <td>3.75</td>\n",
       "      <td>31.61</td>\n",
       "      <td>0.048</td>\n",
       "      <td>11.0</td>\n",
       "      <td>reviewed</td>\n",
       "      <td>ci</td>\n",
       "      <td>ci</td>\n",
       "      <td>Shandon</td>\n",
       "      <td>California</td>\n",
       "      <td>San Luis Obispo County</td>\n",
       "      <td>US</td>\n",
       "    </tr>\n",
       "    <tr>\n",
       "      <th>4</th>\n",
       "      <td>1966-06-28 04:18:36.180</td>\n",
       "      <td>35.856500</td>\n",
       "      <td>-120.446167</td>\n",
       "      <td>6.0</td>\n",
       "      <td>3.15</td>\n",
       "      <td>ml</td>\n",
       "      <td>7.0</td>\n",
       "      <td>259.0</td>\n",
       "      <td>1.3120</td>\n",
       "      <td>0.32</td>\n",
       "      <td>ci</td>\n",
       "      <td>ci3330125</td>\n",
       "      <td>2016-01-28T19:32:35.480Z</td>\n",
       "      <td>5km SSW of Parkfield, CA</td>\n",
       "      <td>earthquake</td>\n",
       "      <td>1.93</td>\n",
       "      <td>31.61</td>\n",
       "      <td>0.105</td>\n",
       "      <td>7.0</td>\n",
       "      <td>reviewed</td>\n",
       "      <td>ci</td>\n",
       "      <td>ci</td>\n",
       "      <td>Shandon</td>\n",
       "      <td>California</td>\n",
       "      <td>San Luis Obispo County</td>\n",
       "      <td>US</td>\n",
       "    </tr>\n",
       "  </tbody>\n",
       "</table>\n",
       "</div>"
      ],
      "text/plain": [
       "                      time   latitude   longitude  depth   mag magType   nst  \\\n",
       "0  1951-10-03 13:44:33.170  35.869333 -120.451000    6.0  3.67      ml   6.0   \n",
       "1  1953-05-28 07:58:34.510  36.004167 -120.501167    6.0  3.61      ml   7.0   \n",
       "2  1961-12-14 11:51:15.410  35.970000 -120.470167    6.0  3.95      ml  12.0   \n",
       "3  1965-02-21 18:39:24.500  35.881000 -120.383500    6.0  3.54      ml  10.0   \n",
       "4  1966-06-28 04:18:36.180  35.856500 -120.446167    6.0  3.15      ml   7.0   \n",
       "\n",
       "     gap    dmin   rms net         id                   updated  \\\n",
       "0  259.0  1.5480  0.43  ci  ci3322265  2016-01-28T18:07:55.760Z   \n",
       "1  296.0  0.9139  0.39  ci  ci3304011  2016-01-28T18:11:50.020Z   \n",
       "2  297.0  0.8718  0.51  ci  ci3344629  2016-01-28T19:48:08.330Z   \n",
       "3  257.0  1.5380  0.56  ci  ci3330686  2016-01-28T19:32:10.560Z   \n",
       "4  259.0  1.3120  0.32  ci  ci3330125  2016-01-28T19:32:35.480Z   \n",
       "\n",
       "                       place        type  horizontalError  depthError  \\\n",
       "0   4km SSW of Parkfield, CA  earthquake             3.85       31.61   \n",
       "1  13km NNW of Parkfield, CA  earthquake             3.28       31.61   \n",
       "2   9km NNW of Parkfield, CA  earthquake             3.43       31.61   \n",
       "3   5km ESE of Parkfield, CA  earthquake             3.75       31.61   \n",
       "4   5km SSW of Parkfield, CA  earthquake             1.93       31.61   \n",
       "\n",
       "   magError  magNst    status locationSource magSource  loc_name  loc_admin1  \\\n",
       "0     0.154    10.0  reviewed             ci        ci   Shandon  California   \n",
       "1       NaN     1.0  reviewed             ci        ci  Coalinga  California   \n",
       "2     0.070    11.0  reviewed             ci        ci  Coalinga  California   \n",
       "3     0.048    11.0  reviewed             ci        ci   Shandon  California   \n",
       "4     0.105     7.0  reviewed             ci        ci   Shandon  California   \n",
       "\n",
       "               loc_admin2 loc_cc  \n",
       "0  San Luis Obispo County     US  \n",
       "1           Fresno County     US  \n",
       "2           Fresno County     US  \n",
       "3  San Luis Obispo County     US  \n",
       "4  San Luis Obispo County     US  "
      ]
     },
     "execution_count": 2,
     "metadata": {},
     "output_type": "execute_result"
    }
   ],
   "source": [
    "pd.set_option('max_columns', None)\n",
    "df_parkerfield = pd.read_csv (r'parkfield_earthquakes_1950-2017.csv',skiprows=2)\n",
    "df_parkerfield.head(5)"
   ]
  },
  {
   "cell_type": "code",
   "execution_count": 97,
   "metadata": {},
   "outputs": [
    {
     "data": {
      "text/plain": [
       "array(['Shandon', 'Coalinga', 'San Miguel'], dtype=object)"
      ]
     },
     "execution_count": 97,
     "metadata": {},
     "output_type": "execute_result"
    }
   ],
   "source": [
    "df_parkerfield['loc_name'].unique()"
   ]
  },
  {
   "cell_type": "code",
   "execution_count": 88,
   "metadata": {},
   "outputs": [
    {
     "data": {
      "text/plain": [
       "array([ 10.,   1.,  11.,   7.,   8.,   0.,   5.,  12.,   9.,   4.,   6.,\n",
       "         3.,  13.,   2.,  14.,  15.,  17.,  16.,  18.,  31.,  26.,  47.,\n",
       "        24.,  19.,  23.,  32.,  62.,  22.,  27.,  33.,  25.,  28.,  30.,\n",
       "        44.,  29.,  37.,  50.,  39.,  34.,  40.,  20.,  48.,  59.,  58.,\n",
       "        54.,  60.,  35.,  71.,  52.,  46.,  53., 122.,  42.,  38.,  51.,\n",
       "        21.,  70.,  77.,  91.,  76.,  36.,  56.,  69.,  49.,  63.,  90.,\n",
       "        82.,  80.,  84.,  74., 321.,  75., 102.,  81., 134., 230.,  94.,\n",
       "       104.,  79.,  64.,  55.,  83.,  86.,  73.,  65.,  45.,  43., 100.,\n",
       "        78.,  57.,  85.,  41., 108.,  nan,  72.,  68.,  67.,  61.,  96.,\n",
       "       109.,  66.,  98.,  93.,  97., 144., 141.,  87.,  88.])"
      ]
     },
     "execution_count": 88,
     "metadata": {},
     "output_type": "execute_result"
    }
   ],
   "source": [
    "df_parkerfield['magNst'].unique()\n"
   ]
  },
  {
   "cell_type": "code",
   "execution_count": 86,
   "metadata": {},
   "outputs": [
    {
     "data": {
      "text/plain": [
       "array(['earthquake'], dtype=object)"
      ]
     },
     "execution_count": 86,
     "metadata": {},
     "output_type": "execute_result"
    }
   ],
   "source": [
    "df_parkerfield['type'].unique()"
   ]
  },
  {
   "cell_type": "code",
   "execution_count": 83,
   "metadata": {},
   "outputs": [
    {
     "data": {
      "text/plain": [
       "'1951-10-03 13:44:33.170'"
      ]
     },
     "execution_count": 83,
     "metadata": {},
     "output_type": "execute_result"
    }
   ],
   "source": [
    "np.min(df_parkerfield['time'])"
   ]
  },
  {
   "cell_type": "code",
   "execution_count": 84,
   "metadata": {},
   "outputs": [
    {
     "data": {
      "text/plain": [
       "'2017-07-16 22:34:15.590'"
      ]
     },
     "execution_count": 84,
     "metadata": {},
     "output_type": "execute_result"
    }
   ],
   "source": [
    "np.max(df_parkerfield['time'])"
   ]
  },
  {
   "cell_type": "code",
   "execution_count": 87,
   "metadata": {},
   "outputs": [
    {
     "data": {
      "text/plain": [
       "array(['ml', 'mh', 'ma', 'md', 'mc', 'mw'], dtype=object)"
      ]
     },
     "execution_count": 87,
     "metadata": {},
     "output_type": "execute_result"
    }
   ],
   "source": [
    "df_parkerfield['magType'].unique()"
   ]
  },
  {
   "cell_type": "code",
   "execution_count": 3,
   "metadata": {},
   "outputs": [
    {
     "data": {
      "text/plain": [
       "25.825"
      ]
     },
     "execution_count": 3,
     "metadata": {},
     "output_type": "execute_result"
    }
   ],
   "source": [
    "np.max(df_parkerfield['depth'])"
   ]
  },
  {
   "cell_type": "markdown",
   "metadata": {},
   "source": []
  },
  {
   "cell_type": "code",
   "execution_count": 4,
   "metadata": {},
   "outputs": [
    {
     "data": {
      "text/plain": [
       "5.97"
      ]
     },
     "execution_count": 4,
     "metadata": {},
     "output_type": "execute_result"
    }
   ],
   "source": [
    "np.max(df_parkerfield['mag'])"
   ]
  },
  {
   "cell_type": "code",
   "execution_count": 74,
   "metadata": {},
   "outputs": [
    {
     "data": {
      "text/plain": [
       "<bound method Series.unique of 0       3.67\n",
       "1       3.61\n",
       "2       3.95\n",
       "3       3.54\n",
       "4       3.15\n",
       "        ... \n",
       "9986    0.42\n",
       "9987    0.21\n",
       "9988    0.61\n",
       "9989    0.33\n",
       "9990    0.70\n",
       "Name: mag, Length: 9991, dtype: float64>"
      ]
     },
     "execution_count": 74,
     "metadata": {},
     "output_type": "execute_result"
    }
   ],
   "source": [
    "df_parkerfield['mag'].unique"
   ]
  },
  {
   "cell_type": "code",
   "execution_count": 5,
   "metadata": {},
   "outputs": [
    {
     "data": {
      "text/plain": [
       "0.0"
      ]
     },
     "execution_count": 5,
     "metadata": {},
     "output_type": "execute_result"
    }
   ],
   "source": [
    "np.min(df_parkerfield['mag'])"
   ]
  },
  {
   "cell_type": "code",
   "execution_count": 6,
   "metadata": {},
   "outputs": [
    {
     "name": "stdout",
     "output_type": "stream",
     "text": [
      "9991\n"
     ]
    }
   ],
   "source": [
    "print(len(df_parkerfield.index))"
   ]
  },
  {
   "cell_type": "markdown",
   "metadata": {},
   "source": [
    "# 1- Earthquakes magnitudes"
   ]
  },
  {
   "cell_type": "markdown",
   "metadata": {},
   "source": [
    "## EDA - Parkfield earthquake magnitudes"
   ]
  },
  {
   "cell_type": "markdown",
   "metadata": {},
   "source": [
    "### The dataset"
   ]
  },
  {
   "cell_type": "code",
   "execution_count": 7,
   "metadata": {},
   "outputs": [],
   "source": [
    "mags=df_parkerfield['mag'].values\n",
    "#mags"
   ]
  },
  {
   "cell_type": "markdown",
   "metadata": {},
   "source": [
    "As usual, we will start with EDA and plot the ECDF of the magnitudes of earthquakes detected in the Parkfield region from 1950 to 2016. \n",
    "\n",
    "Recalling that putting an asterisk before an argument in a function splits what follows into separate arguments. Since dcst.ecdf() returns two values, we can pass them as the x, y positional arguments to plt.plot() as plt.plot(*dcst.ecdf(data_we_want_to_plot))."
   ]
  },
  {
   "cell_type": "code",
   "execution_count": 8,
   "metadata": {},
   "outputs": [
    {
     "data": {
      "image/png": "[encoded data removed]",
      "text/plain": [
       "<Figure size 432x288 with 1 Axes>"
      ]
     },
     "metadata": {
      "needs_background": "light"
     },
     "output_type": "display_data"
    }
   ],
   "source": [
    "# Make the plot\n",
    "_=plt.plot(*dcst.ecdf(mags),marker='.',linestyle='none')\n",
    "\n",
    "\n",
    "# Label axes and show plot\n",
    "plt.xlabel('magnitude')\n",
    "plt.ylabel('ECDF')\n",
    "plt.show()"
   ]
  },
  {
   "cell_type": "markdown",
   "metadata": {},
   "source": [
    "We note the distinctive roll-off at magnitudes below 1.0."
   ]
  },
  {
   "cell_type": "markdown",
   "metadata": {},
   "source": [
    "## Computing the b-value\n",
    "The b-value is a common metric for the seismicity of a region. We would like to calculate it often when working with earthquake data. For tasks like this that we will do often, it is best to write a function! "
   ]
  },
  {
   "cell_type": "code",
   "execution_count": 9,
   "metadata": {},
   "outputs": [],
   "source": [
    "def b_value(mags, mt, perc=[2.5, 97.5], n_reps=None):\n",
    "    \"\"\"Compute the b-value and optionally its confidence interval.\"\"\"\n",
    "    # Extract magnitudes above completeness threshold: m\n",
    "    m = mags[mags >= mt]\n",
    "\n",
    "    # Compute b-value: b\n",
    "    b = (np.mean(m)-mt)*np.log(10)\n",
    "\n",
    "    # Dranw bootstrap replicates\n",
    "    if n_reps is None:\n",
    "        return b\n",
    "    else:\n",
    "        m_bs_reps = dcst.draw_bs_reps(m,np.mean,size=n_reps)\n",
    "\n",
    "        # Compute b-value from replicates: b_bs_reps\n",
    "        b_bs_reps = (m_bs_reps - mt) * np.log(10)\n",
    "\n",
    "        # Compute confidence interval: conf_int\n",
    "        conf_int = np.percentile(b_bs_reps,perc)\n",
    "    \n",
    "        return b, conf_int"
   ]
  },
  {
   "cell_type": "markdown",
   "metadata": {},
   "source": [
    "## The b-value for Parkfield\n",
    "The ECDF is effective at exposing roll-off, as we can see below magnitude 1. Because there are plenty of earthquakes above magnitude 3, we can use mt = 3 as our completeness threshold. "
   ]
  },
  {
   "cell_type": "code",
   "execution_count": 48,
   "metadata": {},
   "outputs": [
    {
     "data": {
      "image/png": "[encoded data removed]",
      "text/plain": [
       "<Figure size 432x288 with 1 Axes>"
      ]
     },
     "metadata": {
      "needs_background": "light"
     },
     "output_type": "display_data"
    },
    {
     "name": "stdout",
     "output_type": "stream",
     "text": [
      "\n",
      "b-value: 1.08\n",
      "95% conf int: [0.94, 1.24]\n"
     ]
    }
   ],
   "source": [
    "# Compute b-value and 95% confidence interval\n",
    "b, conf_int = b_value(mags, mt=3, perc=[2.5, 97.5], n_reps=10000)\n",
    "\n",
    "# Generate samples to for theoretical ECDF\n",
    "m_theor = np.random.exponential(b/np.log(10), size=100000) + 3\n",
    "\n",
    "# Plot the theoretical CDF\n",
    "_ = plt.plot(*dcst.ecdf(m_theor))\n",
    "\n",
    "# Plot the ECDF (slicing mags >= mt)\n",
    "_ = plt.plot(*dcst.ecdf(mags[mags >= 3]), marker='.', linestyle='none')\n",
    "\n",
    "# Pretty up and show the plot\n",
    "_ = plt.xlabel('magnitude')\n",
    "_ = plt.ylabel('ECDF')\n",
    "_ = plt.xlim(2.8, 6.2)\n",
    "plt.show()\n",
    "\n",
    "# Report the results\n",
    "print(\"\"\"\n",
    "b-value: {0:.2f}\n",
    "95% conf int: [{1:.2f}, {2:.2f}]\"\"\".format(b, *conf_int))"
   ]
  },
  {
   "cell_type": "markdown",
   "metadata": {},
   "source": [
    "Parkfield seems to follow the Gutenberg-Richter law very well. The b-value of about 1 is typical for regions along fault zones."
   ]
  },
  {
   "cell_type": "markdown",
   "metadata": {},
   "source": [
    "# 2-Earthquakes timing"
   ]
  },
  {
   "cell_type": "markdown",
   "metadata": {},
   "source": [
    "## The dataset"
   ]
  },
  {
   "cell_type": "markdown",
   "metadata": {},
   "source": [
    "Adapted from Barkun and Lindh, Science, 229, 619-624, 1985."
   ]
  },
  {
   "cell_type": "code",
   "execution_count": 12,
   "metadata": {},
   "outputs": [],
   "source": [
    "time_gap=[24.06570842, 20.07665982, 21.01848049, 12.24640657, 32.05475702, 38.2532512 ]"
   ]
  },
  {
   "cell_type": "markdown",
   "metadata": {},
   "source": [
    "## Models for earthquake timing\n",
    "* Exponential model: assumes that earthquakes happen like a Poisson process. This means that when the last earthquake happened has no bearing on when the next will happen. \n",
    "* Gaussian, or Normal, model: Under this model, earthquakes happen periodically."
   ]
  },
  {
   "cell_type": "code",
   "execution_count": 13,
   "metadata": {},
   "outputs": [
    {
     "data": {
      "image/png": "[encoded data removed]",
      "text/plain": [
       "<Figure size 432x288 with 1 Axes>"
      ]
     },
     "metadata": {
      "needs_background": "light"
     },
     "output_type": "display_data"
    }
   ],
   "source": [
    "# Compute the mean time gap: mean_time_gap\n",
    "mean_time_gap = np.mean(time_gap)\n",
    "\n",
    "# Standard deviation of the time gap: std_time_gap\n",
    "std_time_gap = np.std(time_gap)\n",
    "# Generate theoretical Exponential distribution of timings: time_gap_exp\n",
    "time_gap_exp = np.random.exponential(mean_time_gap,size=10000)\n",
    "\n",
    "# Generate theoretical Normal distribution of timings: time_gap_norm\n",
    "time_gap_norm = np.random.normal(mean_time_gap,std_time_gap,size=10000)\n",
    "\n",
    "# Plot theoretical CDFs\n",
    "_ = plt.plot(*dcst.ecdf(time_gap_exp))\n",
    "_ = plt.plot(*dcst.ecdf(time_gap_norm))\n",
    "\n",
    "# Plot Parkfield ECDF\n",
    "_ = plt.plot(*dcst.ecdf(time_gap, formal=True, min_x=-10, max_x=50))\n",
    "\n",
    "# Add legend\n",
    "_ = plt.legend(('Exp.', 'Norm.'), loc='upper left')\n",
    "\n",
    "# Label axes, set limits and show plot\n",
    "_ = plt.xlabel('time gap (years)')\n",
    "_ = plt.ylabel('ECDF')\n",
    "_ = plt.xlim(-10, 50)\n",
    "plt.show()"
   ]
  },
  {
   "cell_type": "markdown",
   "metadata": {},
   "source": [
    "By eye, the Gaussian model seems to describe the observed data best. We will investigate the consequences of this in the next analysis, and see if we can reject the Exponential model in coming exercises."
   ]
  },
  {
   "cell_type": "markdown",
   "metadata": {},
   "source": [
    "# 3-When will the next big Parkfield quake be?\n",
    "The last big earthquake in the Parkfield region was on the evening of September 27, 2004 local time. Your task is to get an estimate as to when the next Parkfield quake will be, assuming the Exponential model and also the Gaussian model. In both cases, the best estimate is given by the mean time gap, which you computed in the last exercise to be 24.62 years, meaning that the next earthquake would be in 2029. Compute 95% confidence intervals on when the next earthquake will be assuming an Exponential distribution. Do the same assuming a Normal distribution parametrized by mean_time_gap and std_time_gap.\n",
    "\n"
   ]
  },
  {
   "cell_type": "code",
   "execution_count": 98,
   "metadata": {},
   "outputs": [],
   "source": [
    "#Decimal year of today\n",
    "from datetime import datetime as dt\n",
    "import time\n",
    "\n",
    "def toYearFraction(date):\n",
    "    def sinceEpoch(date): # returns seconds since epoch\n",
    "        return time.mktime(date.timetuple())\n",
    "    s = sinceEpoch\n",
    "\n",
    "    year = date.year\n",
    "    startOfThisYear = dt(year=year, month=1, day=1)\n",
    "    startOfNextYear = dt(year=year+1, month=1, day=1)\n",
    "\n",
    "    yearElapsed = s(date) - s(startOfThisYear)\n",
    "    yearDuration = s(startOfNextYear) - s(startOfThisYear)\n",
    "    fraction = yearElapsed/yearDuration\n",
    "\n",
    "    return date.year + fraction"
   ]
  },
  {
   "cell_type": "code",
   "execution_count": 26,
   "metadata": {},
   "outputs": [
    {
     "name": "stdout",
     "output_type": "stream",
     "text": [
      "2021.7988807077625\n"
     ]
    }
   ],
   "source": [
    "today=toYearFraction(dt.today())\n",
    "print(today)"
   ]
  },
  {
   "cell_type": "code",
   "execution_count": 27,
   "metadata": {},
   "outputs": [],
   "source": [
    "last_quake = 2004.74"
   ]
  },
  {
   "cell_type": "markdown",
   "metadata": {},
   "source": []
  },
  {
   "cell_type": "code",
   "execution_count": 29,
   "metadata": {},
   "outputs": [
    {
     "name": "stdout",
     "output_type": "stream",
     "text": [
      "Exponential: [2022.43242867 2038.82904679 2113.17085631]\n",
      "     Normal: [2022.42380055 2031.34194055 2046.65204637]\n"
     ]
    }
   ],
   "source": [
    "# Draw samples from the Exponential distribution: exp_samples\n",
    "\n",
    "exp_samples = np.random.exponential(mean_time_gap,size=100000)\n",
    "\n",
    "# Draw samples from the Normal distribution: norm_samples\n",
    "norm_samples = np.random.normal(mean_time_gap,std_time_gap,size=100000)\n",
    "\n",
    "# No earthquake as of today, so only keep samples that are long enough\n",
    "exp_samples = exp_samples[exp_samples > today - last_quake]\n",
    "norm_samples = norm_samples[norm_samples > today - last_quake]\n",
    "\n",
    "# Compute the confidence intervals with medians\n",
    "conf_int_exp = np.percentile(exp_samples, [2.5, 50, 97.5]) + last_quake\n",
    "conf_int_norm = np.percentile(norm_samples, [2.5, 50, 97.5]) + last_quake\n",
    "\n",
    "# Print the results\n",
    "print('Exponential:', conf_int_exp)\n",
    "print('     Normal:', conf_int_norm)"
   ]
  },
  {
   "cell_type": "markdown",
   "metadata": {},
   "source": [
    "The models given decidedly different predictions. The Gaussian model says the next earthquake is almost sure to be in the next few decades, but the Exponential model says we may very well have to wait longer."
   ]
  },
  {
   "cell_type": "markdown",
   "metadata": {},
   "source": [
    "# 4-How are the Parkfield interearthquake times distributed?"
   ]
  },
  {
   "cell_type": "markdown",
   "metadata": {},
   "source": [
    "Knowing how the time between major earthquakes is distributed makes a big difference for assessing when the next earthquake will strike. It turns out that the Parkfield sequence has been central in the science of earthquake prediction."
   ]
  },
  {
   "cell_type": "markdown",
   "metadata": {},
   "source": [
    "What is a reasonable test statistic to measure how close an ECDF is to a theoretical CDF, in this case a Normal CDF?\n",
    "\n",
    "We might take as our test statistic the maximum of distances between the ECDF and the theoretical Normal CDF. This maximal distance is the Kolmogorov-Smirnov statistic, or K-S statistic."
   ]
  },
  {
   "cell_type": "markdown",
   "metadata": {},
   "source": [
    "## Computing the value of a formal ECDF"
   ]
  },
  {
   "cell_type": "markdown",
   "metadata": {},
   "source": [
    "To be able to do the Kolmogorov-Smirnov test, we need to compute the value of a formal ECDF at arbitrary points. In other words, we need a function, ecdf_formal(x, data) that returns the value of the formal ECDF derived from the data set data for each value in the array x."
   ]
  },
  {
   "cell_type": "code",
   "execution_count": 99,
   "metadata": {},
   "outputs": [],
   "source": [
    "def ecdf_formal(x, data):\n",
    "    return np.searchsorted(np.sort(data), x, side='right') / len(data)"
   ]
  },
  {
   "cell_type": "markdown",
   "metadata": {},
   "source": [
    "## Computing the K-S statistic\n"
   ]
  },
  {
   "cell_type": "code",
   "execution_count": 100,
   "metadata": {},
   "outputs": [],
   "source": [
    "def ks_stat(data1, data2):\n",
    "    # Compute ECDF from data: x, y\n",
    "    x,y = dcst.ecdf(data1)\n",
    "    \n",
    "    # Compute corresponding values of the target CDF\n",
    "    cdf = dcst.ecdf_formal(x,data2)\n",
    "\n",
    "    # Compute distances between concave corners and CDF\n",
    "    D_top = cdf - y\n",
    "\n",
    "    # Compute distance between convex corners and CDF\n",
    "    D_bottom = cdf - y + 1/len(data1)\n",
    "\n",
    "    return np.max((D_top, D_bottom))"
   ]
  },
  {
   "cell_type": "markdown",
   "metadata": {},
   "source": [
    "## Drawing KS replicates"
   ]
  },
  {
   "cell_type": "code",
   "execution_count": 101,
   "metadata": {},
   "outputs": [],
   "source": [
    "def draw_ks_reps(n, f, args=(), size=10000, n_reps=10000):\n",
    "    # Generate samples from target distribution\n",
    "    x_f = f(*args,size=size)\n",
    "    \n",
    "    # Initialize K-S replicates\n",
    "    reps = np.empty(n_reps)\n",
    "    \n",
    "    # Draw replicates\n",
    "    for i in range(n_reps):\n",
    "        # Draw samples for comparison\n",
    "        x_samp = f(*args,size=n)\n",
    "        \n",
    "        # Compute K-S statistic\n",
    "        reps[i] = dcst.ks_stat(x_samp,x_f)\n",
    "\n",
    "    return reps"
   ]
  },
  {
   "cell_type": "markdown",
   "metadata": {},
   "source": []
  },
  {
   "cell_type": "markdown",
   "metadata": {},
   "source": [
    "## The K-S test for Exponentiality\n",
    "We will test the null hypothesis that the interearthquake times of the Parkfield sequence are Exponentially distributed. That is, earthquakes happen at random with no memory of when the last one was. Note: This calculation is computationally intensive, so it will take about 10 seconds to complete."
   ]
  },
  {
   "cell_type": "code",
   "execution_count": 102,
   "metadata": {},
   "outputs": [
    {
     "name": "stdout",
     "output_type": "stream",
     "text": [
      "p = 0.2532\n"
     ]
    }
   ],
   "source": [
    "# Draw target distribution: x_f\n",
    "x_f = np.random.exponential(mean_time_gap,size=10000)\n",
    "\n",
    "# Compute K-S stat: d\n",
    "d = dcst.ks_stat(time_gap,x_f)\n",
    "\n",
    "# Draw K-S replicates: reps\n",
    "reps = dcst.draw_ks_reps(len(time_gap), np.random.exponential, \n",
    "                         args=(mean_time_gap,), size=10000, n_reps=10000)\n",
    "\n",
    "# Compute and print p-value\n",
    "p_val = np.sum(reps >= d) / 10000\n",
    "print('p =', p_val)"
   ]
  },
  {
   "cell_type": "markdown",
   "metadata": {},
   "source": [
    "That's a p-value above 0.2. This means that the Parkfield sequence is not outside the realm of possibility if earthquakes there are a Poisson process. This does not mean that they are generated by a Poisson process, but that the observed sequence is not incongruous with that model. The upshot is that it is really hard to say when the next Parkfield quake will be."
   ]
  },
  {
   "cell_type": "markdown",
   "metadata": {},
   "source": []
  }
 ],
 "metadata": {
  "interpreter": {
   "hash": "67567a4f62d7cf5f819c0c6d4bc3b67fc5d89bbce18d810cbad2b9429574bf20"
  },
  "kernelspec": {
   "display_name": "Python 3.8.12 64-bit ('DataCamp': conda)",
   "name": "python3"
  },
  "language_info": {
   "codemirror_mode": {
    "name": "ipython",
    "version": 3
   },
   "file_extension": ".py",
   "mimetype": "text/x-python",
   "name": "python",
   "nbconvert_exporter": "python",
   "pygments_lexer": "ipython3",
   "version": "3.8.12"
  },
  "orig_nbformat": 4
 },
 "nbformat": 4,
 "nbformat_minor": 2
}
