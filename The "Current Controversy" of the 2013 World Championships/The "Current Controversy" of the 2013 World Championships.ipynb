{
 "cells": [
  {
   "cell_type": "markdown",
   "metadata": {},
   "source": [
    "# The Current Controversy\n",
    "We are now going to apply some of the same techniques to tackle the so-called Current Controversy of the 2013 World Championships.\n",
    "In those championships in Barcelona, there were anecdotal reports of a very slight, swirling current in the pool. \n",
    "So, for example in a 50 meter event, swimmers in lane 8 would be swimming with the current, while those in lane 1 \n",
    "would be swimming against it. Unfortunately, the pool used in the 2013 World Championships was temporary and \n",
    "was deconstructed after the competition. So there is no way of measuring the current after the fact. \n",
    "Our goal in this nptebook is to use our statistical thinking skills to find evidence of a current in \n",
    "the data from the 2013 World Championships."
   ]
  },
  {
   "cell_type": "markdown",
   "metadata": {},
   "source": [
    "The analysis we are ging to perform is based on the followiong publication:\n",
    "\n",
    "Cornett, A., Brammer, C., & Stager, J. (2015). Current controversy: Analysis of the 2013 FINA world swimming championships. Medicine & Science in Sports & Exercise, 47(3), 649-654."
   ]
  },
  {
   "cell_type": "markdown",
   "metadata": {},
   "source": [
    "Before investigating lane bias, it is important to know how a swirling current might affect each lane. It is strongest in the outer lanes, and slowest in the middle. This is akin to swirling a cup of tea. The outsides flow the fastest and the center is not flowing. It is also important to know how swimmers are assigned to lanes. For the finals, the swimmer who was fastest in the semifinal is assigned to lane 4. The next fastest is assigned to lane 5. The next to lane 3, and so on. So, in the absence of current, the swimmers in the center two lanes are expected to be the fastest, but there are typically not major differences among swimmers in the outer lanes. For your first analysis, you will look at the 50 meter events, since the swimmers in those events do not turn around. They only swim with or against the putative current. It stands to reason that in a fair pool, we would see athletes swimming in lanes one through three in the finals winning as many medals as those swimming in lanes six through eight. Remember, the top three finishers in the final of each event get medals, so with four strokes and two genders, there are a total of 24 medals awarded in 50 meter events."
   ]
  },
  {
   "cell_type": "markdown",
   "metadata": {},
   "source": [
    "## Data Source\n",
    "The data is freely available at OMEGA from omegatiming.com"
   ]
  },
  {
   "cell_type": "code",
   "execution_count": 48,
   "metadata": {},
   "outputs": [],
   "source": [
    "import matplotlib.pyplot as plt\n",
    "import numpy as np\n",
    "import pandas as pd\n",
    "import pandasql as ps\n",
    "import dc_stat_think as dcst"
   ]
  },
  {
   "cell_type": "code",
   "execution_count": 49,
   "metadata": {},
   "outputs": [
    {
     "data": {
      "text/html": [
       "<div>\n",
       "<style scoped>\n",
       "    .dataframe tbody tr th:only-of-type {\n",
       "        vertical-align: middle;\n",
       "    }\n",
       "\n",
       "    .dataframe tbody tr th {\n",
       "        vertical-align: top;\n",
       "    }\n",
       "\n",
       "    .dataframe thead th {\n",
       "        text-align: right;\n",
       "    }\n",
       "</style>\n",
       "<table border=\"1\" class=\"dataframe\">\n",
       "  <thead>\n",
       "    <tr style=\"text-align: right;\">\n",
       "      <th></th>\n",
       "      <th>athleteid</th>\n",
       "      <th>lastname</th>\n",
       "      <th>firstname</th>\n",
       "      <th>birthdate</th>\n",
       "      <th>gender</th>\n",
       "      <th>name</th>\n",
       "      <th>code</th>\n",
       "      <th>eventid</th>\n",
       "      <th>heat</th>\n",
       "      <th>lane</th>\n",
       "      <th>points</th>\n",
       "      <th>reactiontime</th>\n",
       "      <th>swimtime</th>\n",
       "      <th>split</th>\n",
       "      <th>cumswimtime</th>\n",
       "      <th>splitdistance</th>\n",
       "      <th>daytime</th>\n",
       "      <th>round</th>\n",
       "      <th>distance</th>\n",
       "      <th>relaycount</th>\n",
       "      <th>stroke</th>\n",
       "      <th>splitswimtime</th>\n",
       "    </tr>\n",
       "  </thead>\n",
       "  <tbody>\n",
       "    <tr>\n",
       "      <th>0</th>\n",
       "      <td>244414</td>\n",
       "      <td>KASHARI</td>\n",
       "      <td>ANXHELA</td>\n",
       "      <td>1996-01-01</td>\n",
       "      <td>F</td>\n",
       "      <td>ALBANIA</td>\n",
       "      <td>ALB</td>\n",
       "      <td>33</td>\n",
       "      <td>4</td>\n",
       "      <td>1</td>\n",
       "      <td>578.0</td>\n",
       "      <td>0.68</td>\n",
       "      <td>28.48</td>\n",
       "      <td>1</td>\n",
       "      <td>28.48</td>\n",
       "      <td>50</td>\n",
       "      <td>1000.0</td>\n",
       "      <td>PRE</td>\n",
       "      <td>50</td>\n",
       "      <td>1</td>\n",
       "      <td>FREE</td>\n",
       "      <td>28.48</td>\n",
       "    </tr>\n",
       "    <tr>\n",
       "      <th>1</th>\n",
       "      <td>244417</td>\n",
       "      <td>BORSHI</td>\n",
       "      <td>NOEL</td>\n",
       "      <td>1996-01-01</td>\n",
       "      <td>F</td>\n",
       "      <td>ALBANIA</td>\n",
       "      <td>ALB</td>\n",
       "      <td>1</td>\n",
       "      <td>2</td>\n",
       "      <td>3</td>\n",
       "      <td>591.0</td>\n",
       "      <td>0.73</td>\n",
       "      <td>66.77</td>\n",
       "      <td>1</td>\n",
       "      <td>30.84</td>\n",
       "      <td>50</td>\n",
       "      <td>1000.0</td>\n",
       "      <td>PRE</td>\n",
       "      <td>100</td>\n",
       "      <td>1</td>\n",
       "      <td>FLY</td>\n",
       "      <td>30.84</td>\n",
       "    </tr>\n",
       "    <tr>\n",
       "      <th>2</th>\n",
       "      <td>244417</td>\n",
       "      <td>BORSHI</td>\n",
       "      <td>NOEL</td>\n",
       "      <td>1996-01-01</td>\n",
       "      <td>F</td>\n",
       "      <td>ALBANIA</td>\n",
       "      <td>ALB</td>\n",
       "      <td>1</td>\n",
       "      <td>2</td>\n",
       "      <td>3</td>\n",
       "      <td>591.0</td>\n",
       "      <td>0.73</td>\n",
       "      <td>66.77</td>\n",
       "      <td>2</td>\n",
       "      <td>66.77</td>\n",
       "      <td>100</td>\n",
       "      <td>1000.0</td>\n",
       "      <td>PRE</td>\n",
       "      <td>100</td>\n",
       "      <td>1</td>\n",
       "      <td>FLY</td>\n",
       "      <td>35.93</td>\n",
       "    </tr>\n",
       "    <tr>\n",
       "      <th>3</th>\n",
       "      <td>244421</td>\n",
       "      <td>ZEKTHI</td>\n",
       "      <td>EVIN</td>\n",
       "      <td>1996-01-01</td>\n",
       "      <td>M</td>\n",
       "      <td>ALBANIA</td>\n",
       "      <td>ALB</td>\n",
       "      <td>12</td>\n",
       "      <td>1</td>\n",
       "      <td>4</td>\n",
       "      <td>607.0</td>\n",
       "      <td>0.70</td>\n",
       "      <td>120.43</td>\n",
       "      <td>1</td>\n",
       "      <td>27.67</td>\n",
       "      <td>50</td>\n",
       "      <td>1047.0</td>\n",
       "      <td>PRE</td>\n",
       "      <td>200</td>\n",
       "      <td>1</td>\n",
       "      <td>FREE</td>\n",
       "      <td>27.67</td>\n",
       "    </tr>\n",
       "    <tr>\n",
       "      <th>4</th>\n",
       "      <td>244421</td>\n",
       "      <td>ZEKTHI</td>\n",
       "      <td>EVIN</td>\n",
       "      <td>1996-01-01</td>\n",
       "      <td>M</td>\n",
       "      <td>ALBANIA</td>\n",
       "      <td>ALB</td>\n",
       "      <td>12</td>\n",
       "      <td>1</td>\n",
       "      <td>4</td>\n",
       "      <td>607.0</td>\n",
       "      <td>0.70</td>\n",
       "      <td>120.43</td>\n",
       "      <td>2</td>\n",
       "      <td>58.12</td>\n",
       "      <td>100</td>\n",
       "      <td>1047.0</td>\n",
       "      <td>PRE</td>\n",
       "      <td>200</td>\n",
       "      <td>1</td>\n",
       "      <td>FREE</td>\n",
       "      <td>30.45</td>\n",
       "    </tr>\n",
       "  </tbody>\n",
       "</table>\n",
       "</div>"
      ],
      "text/plain": [
       "   athleteid lastname firstname   birthdate gender     name code  eventid  \\\n",
       "0     244414  KASHARI   ANXHELA  1996-01-01      F  ALBANIA  ALB       33   \n",
       "1     244417   BORSHI      NOEL  1996-01-01      F  ALBANIA  ALB        1   \n",
       "2     244417   BORSHI      NOEL  1996-01-01      F  ALBANIA  ALB        1   \n",
       "3     244421   ZEKTHI      EVIN  1996-01-01      M  ALBANIA  ALB       12   \n",
       "4     244421   ZEKTHI      EVIN  1996-01-01      M  ALBANIA  ALB       12   \n",
       "\n",
       "   heat  lane  points  reactiontime  swimtime  split  cumswimtime  \\\n",
       "0     4     1   578.0          0.68     28.48      1        28.48   \n",
       "1     2     3   591.0          0.73     66.77      1        30.84   \n",
       "2     2     3   591.0          0.73     66.77      2        66.77   \n",
       "3     1     4   607.0          0.70    120.43      1        27.67   \n",
       "4     1     4   607.0          0.70    120.43      2        58.12   \n",
       "\n",
       "   splitdistance  daytime round  distance  relaycount stroke  splitswimtime  \n",
       "0             50   1000.0   PRE        50           1   FREE          28.48  \n",
       "1             50   1000.0   PRE       100           1    FLY          30.84  \n",
       "2            100   1000.0   PRE       100           1    FLY          35.93  \n",
       "3             50   1047.0   PRE       200           1   FREE          27.67  \n",
       "4            100   1047.0   PRE       200           1   FREE          30.45  "
      ]
     },
     "execution_count": 49,
     "metadata": {},
     "output_type": "execute_result"
    }
   ],
   "source": [
    "pd.set_option('max_columns', None)\n",
    "df_13 = pd.read_csv (r'2013_FINA.csv',skiprows=4)\n",
    "df_13.head(5)"
   ]
  },
  {
   "cell_type": "code",
   "execution_count": 50,
   "metadata": {},
   "outputs": [
    {
     "data": {
      "text/plain": [
       "array([ 1,  3,  4,  6,  9,  2,  5,  8,  7,  0, -1])"
      ]
     },
     "execution_count": 50,
     "metadata": {},
     "output_type": "execute_result"
    }
   ],
   "source": [
    "df_13['lane'].unique()"
   ]
  },
  {
   "cell_type": "code",
   "execution_count": 51,
   "metadata": {},
   "outputs": [
    {
     "data": {
      "text/plain": [
       "array([  50,  100,  200,  400,  800, 1500])"
      ]
     },
     "execution_count": 51,
     "metadata": {},
     "output_type": "execute_result"
    }
   ],
   "source": [
    "df_13['distance'].unique()"
   ]
  },
  {
   "cell_type": "code",
   "execution_count": 52,
   "metadata": {},
   "outputs": [
    {
     "data": {
      "text/plain": [
       "array([  50,  100,  150,  200,  250,  300,  350,  400,  450,  500,  550,\n",
       "        600,  650,  700,  750,  800,  850,  900,  950, 1000, 1050, 1100,\n",
       "       1150, 1200, 1250, 1300, 1350, 1400, 1450, 1500])"
      ]
     },
     "execution_count": 52,
     "metadata": {},
     "output_type": "execute_result"
    }
   ],
   "source": [
    "df_13['splitdistance'].unique()"
   ]
  },
  {
   "cell_type": "code",
   "execution_count": 53,
   "metadata": {},
   "outputs": [
    {
     "data": {
      "text/plain": [
       "array([ 1,  2,  3,  4,  5,  6,  7,  8,  9, 10, 11, 12, 13, 14, 15, 16, 17,\n",
       "       18, 19, 20, 21, 22, 23, 24, 25, 26, 27, 28, 29, 30])"
      ]
     },
     "execution_count": 53,
     "metadata": {},
     "output_type": "execute_result"
    }
   ],
   "source": [
    "df_13['split'].unique()"
   ]
  },
  {
   "cell_type": "code",
   "execution_count": 54,
   "metadata": {},
   "outputs": [
    {
     "data": {
      "text/plain": [
       "array([ 1,  3,  4,  6,  9,  2,  5,  8,  7,  0, -1])"
      ]
     },
     "execution_count": 54,
     "metadata": {},
     "output_type": "execute_result"
    }
   ],
   "source": [
    "df_13['lane'].unique()"
   ]
  },
  {
   "cell_type": "code",
   "execution_count": 55,
   "metadata": {},
   "outputs": [
    {
     "data": {
      "text/plain": [
       "array([ 4,  2,  1,  8, 10,  3,  5,  6,  9,  7, 11,  0])"
      ]
     },
     "execution_count": 55,
     "metadata": {},
     "output_type": "execute_result"
    }
   ],
   "source": [
    "df_13['heat'].unique()"
   ]
  },
  {
   "cell_type": "markdown",
   "metadata": {},
   "source": [
    "# First topic: Anaysis of the improvement of individual swimmers moving from low- to high-numbered lanes."
   ]
  },
  {
   "cell_type": "markdown",
   "metadata": {},
   "source": [
    "## Tasks\n",
    "* Investigate improvement of individual swimmers moving from low- to high-numbered lanes in 50 meter events. We choose 50 meter events because there is no turn-around.\n",
    "\n",
    "* Compute the size of the effect swimming in low versus high lane number has on speed. \n",
    "\n",
    "* Finally, test the hypothesis that on average there is no difference between low- and high-numbered lanes."
   ]
  },
  {
   "cell_type": "markdown",
   "metadata": {},
   "source": [
    "## Choosing the metric\n",
    "A good metric is the fractional improvement of the swim time: ( $t_{a}$ -$t_b$)/$t_a$\n"
   ]
  },
  {
   "cell_type": "markdown",
   "metadata": {},
   "source": [
    "## The datasets\n",
    " Swim times of all swimmers who swam a 50 m semifinal in a high numbered lane and the final in a low numbered lane, and vice versa."
   ]
  },
  {
   "cell_type": "code",
   "execution_count": 56,
   "metadata": {},
   "outputs": [],
   "source": [
    "q=\"\"\"WITH\n",
    "sem AS(\n",
    "    SELECT athleteid,eventid, stroke,lane,swimtime \n",
    "    FROM df_13 \n",
    "    WHERE distance=50 AND round='SEM'\n",
    "),\n",
    "fin AS (\n",
    "    SELECT athleteid,eventid, stroke,lane,swimtime \n",
    "    FROM df_13 \n",
    "    WHERE distance=50 AND round='FIN'\n",
    ")\n",
    "SELECT sem.athleteid, sem.stroke as stroke,  \n",
    "sem.eventid AS sem_eventid, fin.eventid AS fin_eventid, \n",
    "sem.lane AS sem_lane, sem.swimtime AS sem_swimtime, \n",
    "fin.swimtime AS fin_swimtime, fin.lane AS fin_lane\n",
    "FROM sem INNER JOIN fin\n",
    "ON (\n",
    "    sem.athleteid = fin.athleteid AND \n",
    "    sem.stroke=fin.stroke AND \n",
    "    (\n",
    "        (sem.lane IN (0,1,2,3) AND fin.lane IN(5,6,7,8)) \n",
    "        OR \n",
    "        (sem.lane IN (5,6,7,8) AND fin.lane IN (0,1,2,3))\n",
    "    )\n",
    ")\n",
    "\"\"\"\n",
    "all_df=ps.sqldf(q)\n",
    "q1=\"\"\"SELECT  CASE WHEN sem_lane>fin_lane THEN sem_swimtime ELSE fin_swimtime END AS swimtime\n",
    "FROM all_df\"\"\"\n",
    "swimtime_high_lanes_df=ps.sqldf(q1)\n",
    "swimtime_high_lanes=swimtime_high_lanes_df.values\n",
    "swimtime_high_lanes=np.reshape(swimtime_high_lanes,(swimtime_high_lanes.shape[0],))\n",
    "q2=\"\"\"SELECT  CASE WHEN sem_lane<fin_lane THEN sem_swimtime ELSE fin_swimtime END AS swimtime\n",
    "FROM all_df\"\"\"\n",
    "swimtime_low_lanes_df=ps.sqldf(q2)\n",
    "swimtime_low_lanes=swimtime_low_lanes_df.values\n",
    "swimtime_low_lanes=np.reshape(swimtime_low_lanes,(swimtime_low_lanes.shape[0],))\n"
   ]
  },
  {
   "cell_type": "markdown",
   "metadata": {},
   "source": [
    "## ECDF of improvement from low to high lanes\n",
    "Now that you have a metric for improvement going from low- to high-numbered lanes, plot an ECDF of this metric. I have put together the swim times of all swimmers who swam a 50 m semifinal in a high numbered lane and the final in a low numbered lane, and vice versa. The swim times are stored in the Numpy arrays swimtime_high_lanes and swimtime_low_lanes. Entry i in the respective arrays are for the same swimmer in the same event."
   ]
  },
  {
   "cell_type": "code",
   "execution_count": 57,
   "metadata": {},
   "outputs": [
    {
     "data": {
      "image/png": "[encoded data removed]",
      "text/plain": [
       "<Figure size 432x288 with 1 Axes>"
      ]
     },
     "metadata": {
      "needs_background": "light"
     },
     "output_type": "display_data"
    }
   ],
   "source": [
    "# Compute the fractional improvement of being in high lane: f\n",
    "\n",
    "f = (swimtime_low_lanes - swimtime_high_lanes) / swimtime_low_lanes\n",
    "\n",
    "# Make x and y values for ECDF: x, y\n",
    "x, y =dcst.ecdf(f)\n",
    "\n",
    "# Plot the ECDFs as dots\n",
    "_=plt.plot(x,y, marker='.',linestyle='none')\n",
    "\n",
    "# Label the axes and show the plot\n",
    "plt.xlabel('f')\n",
    "plt.ylabel('ECDF')\n",
    "plt.show()"
   ]
  },
  {
   "cell_type": "markdown",
   "metadata": {},
   "source": [
    "## Estimation of mean improvement\n",
    "You will now estimate how big this current effect is. Compute the mean fractional improvement for being in a high-numbered lane versus a low-numbered lane, along with a 95% confidence interval of the mean."
   ]
  },
  {
   "cell_type": "code",
   "execution_count": 58,
   "metadata": {},
   "outputs": [
    {
     "name": "stdout",
     "output_type": "stream",
     "text": [
      "\n",
      "mean frac. diff.: 0.01051\n",
      "95% conf int of mean frac. diff.: [0.00615, 0.01604]\n"
     ]
    }
   ],
   "source": [
    "# Compute the mean difference: f_mean\n",
    "f_mean = np.mean(f)\n",
    "\n",
    "# Draw 10,000 bootstrap replicates: bs_reps\n",
    "bs_reps = dcst.draw_bs_reps(f,np.mean,size=10000)\n",
    "\n",
    "# Compute 95% confidence interval: conf_int\n",
    "conf_int = np.percentile(bs_reps,[2.5,97.5])\n",
    "\n",
    "# Print the result\n",
    "print(\"\"\"\n",
    "mean frac. diff.: {0:.5f}\n",
    "95% conf int of mean frac. diff.: [{1:.5f}, {2:.5f}]\"\"\".format(f_mean, *conf_int))"
   ]
  },
  {
   "cell_type": "markdown",
   "metadata": {},
   "source": [
    "It looks like swimmers are faster in lanes 5-8."
   ]
  },
  {
   "cell_type": "markdown",
   "metadata": {},
   "source": []
  },
  {
   "cell_type": "markdown",
   "metadata": {},
   "source": [
    "## How should we test the hypothesis?\n",
    "* Null hypothesis: the mean fractional improvement going from low to high lane numbers is zero.\n",
    "* Statistical Test: Subtract the mean of f from f to generate f_shift. Then, take bootstrap replicate of the mean from this f_shift.\n"
   ]
  },
  {
   "cell_type": "code",
   "execution_count": 59,
   "metadata": {},
   "outputs": [
    {
     "name": "stdout",
     "output_type": "stream",
     "text": [
      "p = 0.00028\n"
     ]
    }
   ],
   "source": [
    "# Shift f: f_shift\n",
    "f_shift = f - f_mean\n",
    "\n",
    "# Draw 100,000 bootstrap replicates of the mean: bs_reps\n",
    "bs_reps = dcst.draw_bs_reps(f_shift,np.mean,size=100000)\n",
    "\n",
    "# Compute and report the p-value\n",
    "p_val = np.sum(bs_reps>f_mean) / 100000\n",
    "print('p =', p_val)"
   ]
  },
  {
   "cell_type": "markdown",
   "metadata": {},
   "source": [
    "A p-value of 0.0003 is quite small which is strong evidence against the null hypothesis. this means that the mean fractional improvment is greater than zero."
   ]
  },
  {
   "cell_type": "markdown",
   "metadata": {},
   "source": [
    "## Did the 2015 event have this problem?\n",
    "To address this question, we will perform a similar analysis for the results of the 2015 FINA World Championships. "
   ]
  },
  {
   "cell_type": "markdown",
   "metadata": {},
   "source": [
    "### The dataset"
   ]
  },
  {
   "cell_type": "code",
   "execution_count": 60,
   "metadata": {},
   "outputs": [],
   "source": [
    "pd.set_option('max_columns', None)\n",
    "df_15 = pd.read_csv (r'2015_FINA.csv',skiprows=4)\n",
    "#df.head(5)"
   ]
  },
  {
   "cell_type": "code",
   "execution_count": 61,
   "metadata": {},
   "outputs": [],
   "source": [
    "q=\"\"\"WITH\n",
    "sem AS(\n",
    "    SELECT athleteid,eventid, stroke,lane,swimtime \n",
    "    FROM df_15 \n",
    "    WHERE distance=50 AND round='SEM'\n",
    "),\n",
    "fin AS (\n",
    "    SELECT athleteid,eventid, stroke,lane,swimtime \n",
    "    FROM df_15 \n",
    "    WHERE distance=50 AND round='FIN'\n",
    ")\n",
    "SELECT sem.athleteid, sem.stroke as stroke,  \n",
    "sem.eventid AS sem_eventid, fin.eventid AS fin_eventid, \n",
    "sem.lane AS sem_lane, sem.swimtime AS sem_swimtime, \n",
    "fin.swimtime AS fin_swimtime, fin.lane AS fin_lane\n",
    "FROM sem INNER JOIN fin\n",
    "ON (\n",
    "    sem.athleteid = fin.athleteid AND \n",
    "    sem.stroke=fin.stroke AND \n",
    "    (\n",
    "        (sem.lane IN (0,1,2,3) AND fin.lane IN(5,6,7,8)) \n",
    "        OR \n",
    "        (sem.lane IN (5,6,7,8) AND fin.lane IN (0,1,2,3))\n",
    "    )\n",
    ")\n",
    "\"\"\"\n",
    "all_df=ps.sqldf(q)\n",
    "q1=\"\"\"SELECT  CASE WHEN sem_lane>fin_lane THEN sem_swimtime ELSE fin_swimtime END AS swimtime\n",
    "FROM all_df\"\"\"\n",
    "swimtime_high_lanes_df=ps.sqldf(q1)\n",
    "swimtime_high_lanes_15=swimtime_high_lanes_df.values\n",
    "swimtime_high_lanes_15=np.reshape(swimtime_high_lanes_15,(swimtime_high_lanes_15.shape[0],))\n",
    "q2=\"\"\"SELECT  CASE WHEN sem_lane<fin_lane THEN sem_swimtime ELSE fin_swimtime END AS swimtime\n",
    "FROM all_df\"\"\"\n",
    "swimtime_low_lanes_df=ps.sqldf(q2)\n",
    "swimtime_low_lanes_15=swimtime_low_lanes_df.values\n",
    "swimtime_low_lanes_15=np.reshape(swimtime_low_lanes_15,(swimtime_low_lanes_15.shape[0],))"
   ]
  },
  {
   "cell_type": "markdown",
   "metadata": {},
   "source": [
    "### The hypothesis test"
   ]
  },
  {
   "cell_type": "code",
   "execution_count": 62,
   "metadata": {},
   "outputs": [
    {
     "name": "stdout",
     "output_type": "stream",
     "text": [
      "\n",
      "mean frac. diff.: 0.00079\n",
      "95% conf int of mean frac. diff.: [-0.00190, 0.00338]\n",
      "p-value: 0.28267\n"
     ]
    }
   ],
   "source": [
    "# Compute f and its mean\n",
    "f = (swimtime_low_lanes_15 - swimtime_high_lanes_15) / swimtime_low_lanes_15\n",
    "f_mean = np.mean(f)\n",
    "\n",
    "# Draw 10,000 bootstrap replicates\n",
    "bs_reps = dcst.draw_bs_reps(f,np.mean,size=10000)\n",
    "\n",
    "# Compute 95% confidence interval\n",
    "conf_int = np.percentile(bs_reps,[2.5,97.5])\n",
    "\n",
    "# Shift f\n",
    "f_shift = f - f_mean\n",
    "\n",
    "# Draw 100,000 bootstrap replicates of the mean\n",
    "bs_reps = dcst.draw_bs_reps(f_shift,np.mean,size=100000)\n",
    "\n",
    "# Compute the p-value\n",
    "p_val = np.sum(bs_reps >= f_mean) / 100000\n",
    "\n",
    "# Print the results\n",
    "print(\"\"\"\n",
    "mean frac. diff.: {0:.5f}\n",
    "95% conf int of mean frac. diff.: [{1:.5f}, {2:.5f}]\n",
    "p-value: {3:.5f}\"\"\".format(f_mean, *conf_int, p_val))"
   ]
  },
  {
   "cell_type": "markdown",
   "metadata": {},
   "source": [
    "The confidence interval suggests that the mean is very close to zero.\n",
    "\n",
    "The high p-value indicates strong evidence in favor of the null hypothesis.\n",
    "\n",
    "So, both the confidence interval an the p-value suggest that there was no lane bias in 2015."
   ]
  },
  {
   "cell_type": "markdown",
   "metadata": {},
   "source": []
  },
  {
   "cell_type": "markdown",
   "metadata": {},
   "source": [
    "# Second topic: The zig-zag effect\n",
    "Now, we will look at how a putative current would effect splits in longer races.\n",
    "\n",
    "The longest race in the World Championships is the 1500 meter freestyle. The swimmers swim the length of the pool 15 times in each direction. If there is a swirling current, we would expect swimmers in lanes one through three to have fast even splits, when swimming with the current, and slow odd splits, when swimming against it.\n",
    "\n",
    "In the next set of exercises, we will explore this zigzag effect in depth using all of the 1500 meter splits from the 2013 and 2015 competitions."
   ]
  },
  {
   "cell_type": "markdown",
   "metadata": {},
   "source": [
    "## Which splits should we consider?\n",
    "We should include all splits except the first two and the last two. We should neglect the last two because swimmers stop pacing themselves and \"kick\" for the final stretch. The first two are different because they involve jumping off the starting blocks and more underwater swimming than others."
   ]
  },
  {
   "cell_type": "markdown",
   "metadata": {},
   "source": [
    "## The dataset"
   ]
  },
  {
   "cell_type": "code",
   "execution_count": 63,
   "metadata": {},
   "outputs": [],
   "source": [
    "q= \"\"\"WITH \n",
    "odd AS (\n",
    "    SELECT athleteid, lane, AVG(splitswimtime) AS odd_time \n",
    "    FROM df_13 \n",
    "    WHERE distance=1500 AND split NOT IN (1,2,29,30) AND (split%2)=1 \n",
    "    GROUP BY athleteid, lane\n",
    "),\n",
    "even AS (\n",
    "    SELECT athleteid, lane, AVG(splitswimtime) AS even_time \n",
    "    FROM df_13 \n",
    "    WHERE distance=1500 AND split NOT IN (1,2,29,30) AND (split%2)=0 \n",
    "    GROUP BY athleteid, lane\n",
    "),\n",
    "f_all AS (\n",
    "    SELECT odd.lane as lane, odd.odd_time AS odd_time, even.even_time AS even_time,\n",
    "    2.0*(odd_time - even_time)/(odd_time + even_time) AS f\n",
    "    FROM odd INNER JOIN even ON (odd.lane=even.lane AND odd.athleteid=even.athleteid)\n",
    "),\n",
    "average_f AS (\n",
    "    SELECT  lane, AVG(f) AS f_avg \n",
    "    FROM f_all \n",
    "    GROUP BY lane\n",
    "\n",
    ")\n",
    "SELECT f_avg\n",
    "FROM average_f\n",
    "WHERE lane NOT IN (-1,0,9)\n",
    "\"\"\"\n",
    "\n",
    "f_13=ps.sqldf(q).values\n",
    "f_13=np.reshape(f_13,(f_13.shape[0],))\n",
    "#f_13"
   ]
  },
  {
   "cell_type": "code",
   "execution_count": 64,
   "metadata": {},
   "outputs": [],
   "source": [
    "q= \"\"\"WITH \n",
    "odd AS (\n",
    "    SELECT athleteid, lane, AVG(splitswimtime) AS odd_time \n",
    "    FROM df_15 \n",
    "    WHERE distance=1500 AND split NOT IN (1,2,29,30) AND (split%2)=1 \n",
    "    GROUP BY athleteid, lane\n",
    "),\n",
    "even AS (\n",
    "    SELECT athleteid, lane, AVG(splitswimtime) AS even_time \n",
    "    FROM df_15 \n",
    "    WHERE distance=1500 AND split NOT IN (1,2,29,30) AND (split%2)=0 \n",
    "    GROUP BY athleteid, lane\n",
    "),\n",
    "f_all AS (\n",
    "    SELECT odd.lane as lane, odd.odd_time AS odd_time, even.even_time AS even_time,\n",
    "    2.0*(odd_time - even_time)/(odd_time + even_time) AS f\n",
    "    FROM odd INNER JOIN even ON (odd.lane=even.lane AND odd.athleteid=even.athleteid)\n",
    "),\n",
    "average_f AS (\n",
    "    SELECT  lane, AVG(f) AS f_avg \n",
    "    FROM f_all \n",
    "    GROUP BY lane\n",
    "\n",
    ")\n",
    "SELECT f_avg\n",
    "FROM average_f\n",
    "WHERE lane NOT IN (-1,0,9)\n",
    "\"\"\"\n",
    "\n",
    "f_15=ps.sqldf(q).values\n",
    "f_15=np.reshape(f_15,(f_15.shape[0],))\n",
    "#f_15"
   ]
  },
  {
   "cell_type": "code",
   "execution_count": 65,
   "metadata": {},
   "outputs": [],
   "source": [
    "lanes=[1,2,3,4,5,6,7,8]"
   ]
  },
  {
   "cell_type": "markdown",
   "metadata": {},
   "source": [
    "## EDA: mean differences between odd and even splits\n",
    "To investigate the differences between odd and even splits, we first need to define a difference metric. \n",
    "\n",
    "In previous exercises, we investigated the improvement of moving from a low-numbered lane to a high-numbered lane, defining f = ($t_a$ - $t_b$) / $t_a$. There, the $t_a$ in the denominator served as our reference time for improvement. \n",
    "\n",
    "Here, we are considering both improvement and decline in performance depending on the direction of swimming, so we want the reference to be an average. So, we will define the fractional difference as f = 2($t_a$ - $t_b$) / ($t_a$ + $t_b$).\n",
    "\n",
    "Our task here is to plot the mean fractional difference between odd and even splits versus lane number. "
   ]
  },
  {
   "cell_type": "code",
   "execution_count": 66,
   "metadata": {},
   "outputs": [
    {
     "data": {
      "image/png": "[encoded data removed]",
      "text/plain": [
       "<Figure size 432x288 with 1 Axes>"
      ]
     },
     "metadata": {
      "needs_background": "light"
     },
     "output_type": "display_data"
    }
   ],
   "source": [
    "# Plot the the fractional difference for 2013 and 2015\n",
    "_=plt.plot(lanes,f_13,marker='.',markersize=12,linestyle='none')\n",
    "_=plt.plot(lanes,f_15,marker='.', markersize=12,linestyle='none')\n",
    "\n",
    "# Add a legend\n",
    "plt.legend((2013, 2015))\n",
    "\n",
    "# Label axes and show plot\n",
    "\n",
    "plt.xlabel('lane')\n",
    "plt.ylabel('frac. diff. (odd - even)')\n",
    "plt.show()\n"
   ]
  },
  {
   "cell_type": "markdown",
   "metadata": {},
   "source": [
    "EDA has exposed a strong slope in 2013 compared to 2015!"
   ]
  },
  {
   "cell_type": "markdown",
   "metadata": {},
   "source": [
    "## How does the current effect depend on lane position?\n",
    "To quantify the effect of lane number on performance, perform a linear regression on the f_13 versus lanes data. Do a pairs bootstrap calculation to get a 95% confidence interval. Finally, make a plot of the regression. \n"
   ]
  },
  {
   "cell_type": "code",
   "execution_count": 67,
   "metadata": {},
   "outputs": [
    {
     "name": "stdout",
     "output_type": "stream",
     "text": [
      "\n",
      "slope: 0.00446 per lane\n",
      "95% conf int: [0.00394, 0.00500] per lane\n"
     ]
    },
    {
     "data": {
      "image/png": "[encoded data removed]",
      "text/plain": [
       "<Figure size 432x288 with 1 Axes>"
      ]
     },
     "metadata": {
      "needs_background": "light"
     },
     "output_type": "display_data"
    }
   ],
   "source": [
    "# Compute the slope and intercept of the frac diff/lane curve\n",
    "slope, intercept = np.polyfit(lanes,f_13,1)\n",
    "\n",
    "# Compute bootstrap replicates\n",
    "bs_reps_slope, bs_reps_int = dcst.draw_bs_pairs_linreg(lanes,f_13,size=10000)\n",
    "\n",
    "# Compute 95% confidence interval of slope\n",
    "conf_int = np.percentile(bs_reps_slope,[2.5,97.5])\n",
    "\n",
    "# Print slope and confidence interval\n",
    "print(\"\"\"\n",
    "slope: {0:.5f} per lane\n",
    "95% conf int: [{1:.5f}, {2:.5f}] per lane\"\"\".format(slope, *conf_int))\n",
    "\n",
    "# x-values for plotting regression lines\n",
    "x = np.array([1,8])\n",
    "\n",
    "# Plot 100 bootstrap replicate lines\n",
    "for i in range(100):\n",
    "    _ = plt.plot(x, bs_reps_slope[i] * x + bs_reps_int[i], color='red', alpha=0.2, linewidth=0.5)\n",
    "   \n",
    "# Update the plot\n",
    "plt.draw()\n",
    "plt.show()"
   ]
  },
  {
   "cell_type": "markdown",
   "metadata": {},
   "source": [
    "The slope is a fractional difference of about 0.4% per lane. This is quite a substantial difference at this elite level of swimming where races can be decided by tiny differences."
   ]
  },
  {
   "cell_type": "markdown",
   "metadata": {},
   "source": [
    "## Hypothesis test: can this be by chance?\n",
    "The EDA and linear regression analysis is pretty conclusive. Nonetheless, we will top off the analysis of the zigzag effect by testing the hypothesis that lane assignment has nothing to do with the mean fractional difference between even and odd lanes using a permutation test. We will use the Pearson correlation coefficient as the test statistic. "
   ]
  },
  {
   "cell_type": "code",
   "execution_count": 68,
   "metadata": {},
   "outputs": [
    {
     "name": "stdout",
     "output_type": "stream",
     "text": [
      "p = 0.0001\n"
     ]
    }
   ],
   "source": [
    "# Compute observed correlation: rho\n",
    "rho = dcst.pearson_r(lanes,f_13)\n",
    "\n",
    "# Initialize permutation reps: perm_reps_rho\n",
    "perm_reps_rho = np.empty(10000)\n",
    "\n",
    "# Make permutation reps\n",
    "for i in range(10000):\n",
    "    # Scramble the lanes array: scrambled_lanes\n",
    "    scrambled_lanes = np.random.permutation(lanes)\n",
    "    \n",
    "    # Compute the Pearson correlation coefficient\n",
    "    perm_reps_rho[i] = dcst.pearson_r(scrambled_lanes,f_13)\n",
    "    \n",
    "# Compute and print p-value\n",
    "p_val = np.sum(perm_reps_rho >= rho) / 10000\n",
    "print('p =', p_val)"
   ]
  },
  {
   "cell_type": "markdown",
   "metadata": {},
   "source": [
    "The p-value is very small, as we would expect from the confidence interval of the last item. \n",
    "\n",
    "This brings ecidence against that null hypothesis."
   ]
  },
  {
   "cell_type": "markdown",
   "metadata": {},
   "source": []
  },
  {
   "cell_type": "markdown",
   "metadata": {},
   "source": []
  }
 ],
 "metadata": {
  "interpreter": {
   "hash": "67567a4f62d7cf5f819c0c6d4bc3b67fc5d89bbce18d810cbad2b9429574bf20"
  },
  "kernelspec": {
   "display_name": "Python 3.8.12 64-bit ('DataCamp': conda)",
   "name": "python3"
  },
  "language_info": {
   "codemirror_mode": {
    "name": "ipython",
    "version": 3
   },
   "file_extension": ".py",
   "mimetype": "text/x-python",
   "name": "python",
   "nbconvert_exporter": "python",
   "pygments_lexer": "ipython3",
   "version": "3.8.12"
  },
  "orig_nbformat": 4
 },
 "nbformat": 4,
 "nbformat_minor": 2
}
